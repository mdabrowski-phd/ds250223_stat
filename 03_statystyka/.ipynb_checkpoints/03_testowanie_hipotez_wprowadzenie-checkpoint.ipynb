{
 "cells": [
  {
   "cell_type": "markdown",
   "metadata": {
    "id": "snIdRRw7P8h8"
   },
   "source": [
    "# Testowanie hipotez"
   ]
  },
  {
   "cell_type": "code",
   "execution_count": null,
   "metadata": {
    "id": "QbgYpFQtP8h_"
   },
   "outputs": [],
   "source": [
    "# import numpy as np\n",
    "# import matplotlib.pyplot as plt\n",
    "# from scipy import stats"
   ]
  },
  {
   "cell_type": "markdown",
   "metadata": {
    "id": "A8zkvBI3P8iA"
   },
   "source": [
    "## Klasyczny algorytm testowania hipotez\n",
    "1. postawić hipotezę zerową $H_0$ i hipotezę alternatywną $H_1$;\n",
    "2. wyspecyfikować model matematyczny (np. zakładamy, że próba losowa pochodzi z rozkładu normalnego o nieznanej wariancji);\n",
    "3. przyjąć poziom istotności $\\alpha$;\n",
    "4. obliczyć wartość statystyki testowej $T = T(X_1, \\ldots, X_n)$\n",
    "5. wyznaczyć obszar krytyczny $W_{\\alpha}$ (w zależności od przyjętego poziomu istotności oraz hipotezy alternatywnej);\n",
    "6. podjąć decyzję\n",
    "\n",
    "    a) jeśli $T\\in W_{\\alpha}$, wówczas odrzuć hipotezę $H_0$,\n",
    "    \n",
    "    b) jeśli $T\\not\\in W_{\\alpha}$, wówczas nie ma podstaw do odrzucenia hipotezy $H_0$;"
   ]
  },
  {
   "cell_type": "markdown",
   "metadata": {
    "id": "x428QuEAP8iB"
   },
   "source": [
    "## Algorytm testowania hipotez - przy użyciu $p$-wartości\n",
    "1. postawić hipotezę zerową $H_0$ i hipotezę alternatywną $H_1$;\n",
    "2. wyspecyfikować model matematyczny;\n",
    "3. przyjąć poziom istotności $\\alpha$;\n",
    "4. obliczyć wartość statystyki testowej $T = T(X_1, \\ldots, X_n)$\n",
    "5. obliczyć $p$-wartość;\n",
    "6. podjąć decyzję\n",
    "\n",
    "    a) jeśli $p\\leq\\alpha$, wówczas odrzuć hipotezę $H_0$,\n",
    "\n",
    "    b) jeśli $p>\\alpha$, wówczas nie ma podstaw do odrzucenia hipotezy $H_0$;\n"
   ]
  },
  {
   "cell_type": "markdown",
   "metadata": {
    "id": "qp1VjzT2P8iB"
   },
   "source": [
    "## Testy dla wartości oczekiwanej\n",
    "Załóżmy, że jesteśmy zainteresowaniu weryfikacją hipotezy dotyczącej wartości oczekiwanej $\\mu$:\n",
    "$$\n",
    "    H_0: \\mu = \\mu_0,\n",
    "$$\n",
    "wobec jednej z trzech hipotez alternatywnych\n",
    "\\begin{equation*}\n",
    "    \\begin{split}\n",
    "        H_1&: \\mu \\neq \\mu_0\\\\\n",
    "        H_1'&: \\mu < \\mu_0\\\\\n",
    "        H_1''&: \\mu > \\mu_0.\n",
    "    \\end{split}\n",
    "\\end{equation*}\n"
   ]
  },
  {
   "cell_type": "markdown",
   "metadata": {
    "id": "CY9kV7M7P8iC"
   },
   "source": [
    "## Test dla wartości oczekiwanej - model 1\n",
    "Załóżmy, że badana cecha $X$ ma rozkład normalny $\\mathcal{N(\\mu, \\sigma})$ o znanym odchyleniu standardowym $\\sigma$. \n",
    "\n",
    "Statystyka testowa przyjmuje w tym przypadku postać\n",
    "$$\n",
    "    T = \\frac{\\overline{X} - \\mu_0}{\\sigma}\\sqrt{n}.\n",
    "$$\n",
    "\n",
    "$$\n",
    "    T = \\frac{\\overline{X} - \\mu_0}{\\frac{\\sigma}{\\sqrt{n}}}.\n",
    "$$\n",
    "\n",
    "Przy założeniu prawdziwości hipotezy $H_0$ statystyka ma rozkład normalny standardowy $\\mathcal{N}(0,1)$, z zwiążku z czym obszar krytyczny - w zależności od przyjętej hipotezy alternatywnej - ma postać\n",
    "$$\n",
    "W_{\\alpha} = (-\\infty, -z_{1-\\frac{\\alpha}{2}}]\\cup[z_{1-\\frac{\\alpha}{2}}, +\\infty),\n",
    "$$\n",
    "\n",
    "$$\n",
    "W_{\\alpha}^{'} = (-\\infty, -z_{1-\\alpha}],\n",
    "$$\n",
    "\n",
    "$$\n",
    "W_{\\alpha}^{''} =[z_{1-\\alpha}, +\\infty].\n",
    "$$\n",
    "\n",
    "Natomiast, w zależności od przyjętej hipotezy zerowej, $p$-wartość jest postaci\n",
    "\\begin{equation*}\n",
    "    \\begin{split}\n",
    "        p-\\text{value} &= P(|T|\\geq |t|)=1-F(|t|)+F(-|t|)\\\\\n",
    "        p-\\text{value} &= P(T < t) = F(t)\\\\\n",
    "        p-\\text{value} &= P(T > t) = 1-F(t).\n",
    "    \\end{split}\n",
    "\\end{equation*}"
   ]
  },
  {
   "cell_type": "markdown",
   "metadata": {
    "id": "7_k4cNzuP8iC"
   },
   "source": [
    "**Zadanie - model 1.** Niech $X_1, \\ldots, X_n$ oznacza próbę prostą o liczności $n=20$ z rozkładu normalnego o znanym odchyleniu standardowym $\\sigma=0.8$.\n",
    "\n",
    "a) Załóżmy, że średnia z tej próby wynosi 1.54. Wyznacz obszar krytyczny do weryfikacji hipotezy \n",
    "    \\begin{equation*}\n",
    "    \\begin{split}\n",
    "        H_0: \\mu &= 1.6\\\\\n",
    "        H_1: \\mu &< 1.6,\n",
    "    \\end{split}\n",
    "    \\end{equation*}\n",
    "    na poziomie istotności 0.05.\n",
    "        \n",
    "b) Oblicz $p$-value dla powyższego testu.\n",
    "    \n",
    "c) Ile wynosiłoby $p$-value, gdyby średnia z próby wynosiłaby 1.3?\n",
    "    \n",
    "d) Ile wynosiłoby $p$-value, gdybyśmy testowali rozważaną hipotezę zerową wobec dwustronnej hipotezy alternatywnej $H_1: \\mu \\neq 1.6$"
   ]
  },
  {
   "cell_type": "code",
   "execution_count": null,
   "metadata": {
    "id": "LAoTkJD5CB3R"
   },
   "outputs": [],
   "source": [
    "# #a\n",
    "\n",
    "# alpha = 0.05\n",
    "\n",
    "# X_mean = 1.54\n",
    "# mu0 = 1.6\n",
    "# sigma = 0.8\n",
    "# n = 20\n",
    "\n",
    "# T = (X_mean-mu0)/(sigma/np.sqrt(n))\n",
    "# print(T)\n",
    "# z = stats.norm.ppf(q = 1-alpha,loc = 0,scale = 1)\n",
    "# print(-z)"
   ]
  },
  {
   "cell_type": "code",
   "execution_count": null,
   "metadata": {
    "id": "RqzzGK10CFY8"
   },
   "outputs": [],
   "source": [
    "# fig, ax = plt.subplots(1, 1, figsize=(20, 10))\n",
    "\n",
    "# norm01 = stats.norm(loc=0, scale=1)\n",
    "\n",
    "# x0 = -z\n",
    "# a, b = -5, 5\n",
    "# x_value = np.linspace(a, b, 100)\n",
    "\n",
    "# x = np.linspace(a, x0)\n",
    "# y = norm01.pdf(x)\n",
    "\n",
    "# ax.plot(x_value, norm01.pdf(x_value))\n",
    "# ax.fill_between(x, y, alpha=0.2)\n",
    "# ax.text(x0, 0.05, 'z={}'.format(np.round(x0, 2)), size=30)\n",
    "# ax.vlines(T, 0, norm01.pdf(T),  linestyles='--')\n",
    "# ax.text(T, 0.1, 'T={}'.format(np.round(T, 2)), size=30)\n",
    "# ax.set_xlabel('x')\n",
    "# ax.set_ylabel('PDF(x)')\n",
    "# plt.show()"
   ]
  },
  {
   "cell_type": "code",
   "execution_count": null,
   "metadata": {
    "id": "-JynpthQAEMC"
   },
   "outputs": [],
   "source": [
    "# #b\n",
    "# stats.norm.cdf(T,loc = 0,scale = 1)"
   ]
  },
  {
   "cell_type": "markdown",
   "metadata": {
    "id": "BotncZ5LldI2"
   },
   "source": [
    "\\begin{equation*}\n",
    "\\begin{split}\n",
    "    H_0: \\mu &= 1.6\\\\\n",
    "    H_1: \\mu &> 1.6,\n",
    "\\end{split}\n",
    "\\end{equation*}"
   ]
  },
  {
   "cell_type": "code",
   "execution_count": null,
   "metadata": {
    "id": "rwVfzPjslQUY"
   },
   "outputs": [],
   "source": [
    "# #bonus\n",
    "\n",
    "# alpha = 0.05\n",
    "\n",
    "# X_mean = 1.74\n",
    "# mu0 = 1.6\n",
    "# sigma = 0.8\n",
    "# n = 20\n",
    "\n",
    "# T = (X_mean-mu0)/(sigma/np.sqrt(n))\n",
    "# print(T)\n",
    "# z = stats.norm.ppf(q = 1-alpha,loc = 0,scale = 1)\n",
    "# print(z)"
   ]
  },
  {
   "cell_type": "code",
   "execution_count": null,
   "metadata": {
    "id": "3VRM5zTsmEZZ"
   },
   "outputs": [],
   "source": [
    "# fig, ax = plt.subplots(1, 1, figsize=(20, 10))\n",
    "\n",
    "# norm01 = stats.norm(loc=0, scale=1)\n",
    "\n",
    "# x0 = z\n",
    "# a, b = -5, 5\n",
    "# x_value = np.linspace(a, b, 100)\n",
    "\n",
    "# x = np.linspace(x0,b)\n",
    "# y = norm01.pdf(x)\n",
    "\n",
    "# ax.plot(x_value, norm01.pdf(x_value))\n",
    "# ax.fill_between(x, y, alpha=0.2)\n",
    "# ax.text(x0, 0.05, 'z={}'.format(np.round(x0, 2)), size=30)\n",
    "# ax.vlines(T, 0, norm01.pdf(T),  linestyles='--')\n",
    "# ax.text(T, 0.1, 'T={}'.format(np.round(T, 2)), size=30)\n",
    "# ax.set_xlabel('x')\n",
    "# ax.set_ylabel('PDF(x)')\n",
    "# plt.show()"
   ]
  },
  {
   "cell_type": "code",
   "execution_count": null,
   "metadata": {
    "id": "MpPdHnKsm1L0"
   },
   "outputs": [],
   "source": [
    "# 1-stats.norm.cdf(0.78)"
   ]
  },
  {
   "cell_type": "code",
   "execution_count": null,
   "metadata": {
    "id": "2BHwHdYxAH7H"
   },
   "outputs": [],
   "source": [
    "# #c\n",
    "# alpha = 0.05\n",
    "\n",
    "# X_mean = 1.3\n",
    "# mu0 = 1.6\n",
    "# sigma = 0.8\n",
    "# n = 20\n",
    "\n",
    "# T = (X_mean-mu0)/(sigma/np.sqrt(n))\n",
    "# print(T)\n",
    "# z = stats.norm.ppf(q = 1-alpha,loc = 0,scale = 1)\n",
    "# print(-z)"
   ]
  },
  {
   "cell_type": "code",
   "execution_count": null,
   "metadata": {
    "id": "7srkpNJbAL_i"
   },
   "outputs": [],
   "source": [
    "# fig, ax = plt.subplots(1, 1, figsize=(20, 10))\n",
    "\n",
    "# norm01 = stats.norm(loc=0, scale=1)\n",
    "\n",
    "# x0 = -z\n",
    "# a, b = -5, 5\n",
    "# x_value = np.linspace(a, b, 100)\n",
    "\n",
    "# x = np.linspace(a, x0)\n",
    "# y = norm01.pdf(x)\n",
    "\n",
    "# ax.plot(x_value, norm01.pdf(x_value))\n",
    "# ax.fill_between(x, y, alpha=0.2)\n",
    "# ax.text(x0, 0.05, 'z={}'.format(np.round(x0, 2)), size=30)\n",
    "# ax.vlines(T, 0, norm01.pdf(T),  linestyles='--')\n",
    "# ax.text(T, 0.1, 'T={}'.format(np.round(T, 2)), size=30)\n",
    "# ax.set_xlabel('x')\n",
    "# ax.set_ylabel('PDF(x)')\n",
    "# plt.show()"
   ]
  },
  {
   "cell_type": "code",
   "execution_count": null,
   "metadata": {
    "id": "i63uYaZVLDvX"
   },
   "outputs": [],
   "source": [
    "# stats.norm.cdf(T,loc = 0,scale = 1)"
   ]
  },
  {
   "cell_type": "code",
   "execution_count": null,
   "metadata": {
    "id": "-VQwV6cPCcbE"
   },
   "outputs": [],
   "source": [
    "# #d\n",
    "# alpha = 0.05\n",
    "\n",
    "# X_mean = 1.54\n",
    "# mu0 = 1.6\n",
    "# sigma = 0.8\n",
    "# n = 20\n",
    "\n",
    "# T = (X_mean-mu0)/(sigma/np.sqrt(n))\n",
    "# print(T)\n",
    "# z_left = -stats.norm.ppf(q = 1-alpha/2,loc = 0,scale = 1)\n",
    "# z_right = stats.norm.ppf(q = 1-alpha/2,loc = 0,scale = 1)\n",
    "# print((z_left,z_right))"
   ]
  },
  {
   "cell_type": "code",
   "execution_count": null,
   "metadata": {
    "id": "R15pcgILCaHI"
   },
   "outputs": [],
   "source": [
    "# fig, ax = plt.subplots(1, 1, figsize=(20, 10))\n",
    "\n",
    "# norm01 = stats.norm(loc=0, scale=1)\n",
    "\n",
    "# x0 = z_left\n",
    "# x1 = z_right\n",
    "# a, b = -5, 5\n",
    "# x_value = np.linspace(a, b, 100)\n",
    "\n",
    "# x = np.linspace(a, x0)\n",
    "# y = norm01.pdf(x)\n",
    "\n",
    "# xk = np.linspace(x1,b)\n",
    "# yk = norm01.pdf(xk)\n",
    "\n",
    "# ax.plot(x_value, norm01.pdf(x_value))\n",
    "# ax.fill_between(x, y, alpha=0.2)\n",
    "# ax.fill_between(xk, yk, alpha=0.2)\n",
    "# ax.text(x0, 0.05, 'z={}'.format(np.round(x0, 2)), size=30)\n",
    "# ax.text(x1, 0.05, 'z={}'.format(np.round(x1, 2)), size=30)\n",
    "# ax.vlines(T, 0, norm01.pdf(T),  linestyles='--')\n",
    "# ax.vlines(-T, 0, 1-norm01.pdf(T),  linestyles='--')\n",
    "# ax.text(T, 0.15, 'T={}'.format(np.round(T, 2)), size=30)\n",
    "# ax.text(-T, 0.05, '-T={}'.format(np.round(-T, 2)), size=30)\n",
    "# ax.set_xlabel('x')\n",
    "# ax.set_ylabel('PDF(x)')\n",
    "# plt.show()"
   ]
  },
  {
   "cell_type": "code",
   "execution_count": null,
   "metadata": {
    "id": "HGr1s9YcNyFg"
   },
   "outputs": [],
   "source": [
    "# print(2*(stats.norm.cdf(T,loc = 0,scale = 1)))\n",
    "# print(2*(1-stats.norm.cdf(-T,loc = 0,scale = 1)))\n",
    "# print(2*(1-stats.norm.cdf(np.abs(T),loc = 0,scale = 1)))"
   ]
  },
  {
   "cell_type": "markdown",
   "metadata": {
    "id": "GekgunMBP8iF"
   },
   "source": [
    "**Zadanie - model 1**. Norma techniczna przewiduje średnio 64 sekundy na ułożenie w kartonie 100 tabliczek czekolady. Czas trwania tej czynności jest zmienną losową o rozkładzie normalnym z odchyleniem standardowym 10 sekund. Ponieważ robotnicy często skarżyli się, że norma jest źle ustalona, dokonano pomiaru czasu trwania tej czynności u losowo wybranych 225 robotników i otrzymano, że średni czas trwania czynności jest równy 65 s.\n",
    "Czy na poziomie istotności 0.05 można stwierdzić, że średni czas czynności jest większy niż norma?"
   ]
  },
  {
   "cell_type": "markdown",
   "metadata": {
    "id": "M7zVnASFdUjf"
   },
   "source": [
    "$n = 225$\n",
    "\n",
    "$\\bar{X} = 65$\n",
    "\n",
    "$\\mu_0 = 64$\n",
    "\n",
    "$\\sigma = 10$\n",
    "\n",
    "\\begin{equation*}\n",
    "\\begin{split}\n",
    "    H_0: \\mu &= 64\\\\\n",
    "    H_1: \\mu &> 64,\n",
    "\\end{split}\n",
    "\\end{equation*}"
   ]
  },
  {
   "cell_type": "code",
   "execution_count": null,
   "metadata": {
    "id": "YLwHi7jLP8iF"
   },
   "outputs": [],
   "source": [
    "# alpha = 0.05\n",
    "\n",
    "# X_mean = 65\n",
    "# mu0 = 64\n",
    "# sigma = 10\n",
    "# n = 225\n",
    "\n",
    "# T = (X_mean-mu0)/(sigma/np.sqrt(n))\n",
    "# print(T)\n",
    "\n",
    "# z = stats.norm.ppf(q = 1-alpha,loc = 0,scale = 1)\n",
    "# print(z)\n",
    "\n",
    "# print(1-stats.norm.cdf(T,loc = 0,scale = 1))\n"
   ]
  },
  {
   "cell_type": "code",
   "execution_count": null,
   "metadata": {
    "id": "h9l7BWraP8iF"
   },
   "outputs": [],
   "source": []
  },
  {
   "cell_type": "markdown",
   "metadata": {
    "id": "FxFPkxCKP8iF"
   },
   "source": [
    "## Test dla wartości oczekiwanej - model 2\n",
    "Jeżeli cecha $X$ ma rozkład normalny $\\mathcal{N}(\\mu, \\sigma)$ o nieznanym odchyleniu standardowym $\\sigma$, to do weryfikacji hipotezy $H_0$ wykonujemy test zbudowany na statystyce \n",
    "$$\n",
    "    T = \\frac{\\overline{X} - \\mu_0}{S}\\sqrt{n},\n",
    "$$\n",
    "która przy założeniu prawdziwości hipotezy $H_0$ na rozkład $t$-Studenta o $n-1$ stopniach swobody.\n",
    "\n",
    "W zależności od przyjętej hipotezy alternatywnej obszar krytyczny przybiera postać\n",
    "\\begin{equation*}\n",
    "    \\begin{split}\n",
    "        W_{\\alpha} &= (-\\infty, -t_{1-\\frac{\\alpha}{2}}^{[n-1]}]\\cup[t_{1-\\frac{\\alpha}{2}}^{[n-1]}, +\\infty),\\\\\n",
    "        W_{\\alpha}^{'} &= (-\\infty, -t_{1-\\alpha}^{[n-1]}],\\\\\n",
    "        W_{\\alpha}^{''} &=[t_{1-\\alpha}^{[n-1]}, +\\infty].\n",
    "    \\end{split}\n",
    "\\end{equation*}"
   ]
  },
  {
   "cell_type": "markdown",
   "metadata": {
    "id": "bn8N5ZAfP8iG"
   },
   "source": [
    "**Zadanie - model 2.** Dział kontroli jakości w zakładach chemicznych chce oszacować średnią wagę proszku do prania sprzedawanego w pudełkach o nominalnej wadze 3 kg. Pobrano w tym celu próbkę 9 pudełek proszku do prania. Każde pudełko zważono i otrzymano następujące wyniki (w kilogramach): 2.97, 3.04, 2.95, 3.01, 3.00, 2.99, 2.97, 3.05, 2.96. Wiadomo, że rozkład wagi pudełka proszku do prania jest normalny. Na poziomie istotności 0.01 sprawdzić, czy średnia waga proszku różni się istotnie od wagi nominalnej."
   ]
  },
  {
   "cell_type": "code",
   "execution_count": null,
   "metadata": {
    "id": "EeA_JXliP8iG"
   },
   "outputs": [],
   "source": [
    "# x = np.array([2.97, 3.04, 2.95, 3.01, 3.00, 2.99, 2.97, 3.05, 2.96])\n",
    "# x_mean = np.mean(x)\n",
    "# s = np.std(x,ddof=1)\n",
    "# n = 9\n",
    "# alpha = 0.01\n",
    "# mu0 = 3\n",
    "\n",
    "# #H0: \\mu = 3\n",
    "# #H1: \\mu!= 3\n",
    "\n",
    "# T = (x_mean-mu0)*np.sqrt(n)/s\n",
    "\n",
    "# print(T)\n",
    "\n",
    "# print((-stats.t.ppf(q=1-alpha/2,df = n-1),stats.t.ppf(q=1-alpha/2,df = n-1)))\n",
    "\n",
    "# print(2*(1-stats.t.cdf(np.abs(T),df = n-1)))"
   ]
  },
  {
   "cell_type": "markdown",
   "metadata": {
    "id": "mIrM6uRMP8iG"
   },
   "source": [
    "**Zadanie - model 2.** Weryfikujemy hipotezę zerową mówiącą o tym, że średnia zawartość sacharozy w tabletkach homeopatycznych  pewnej  firmy  (średnia  w  populacji)  wynosi  2  mcg,  wobec  hipotezy alternatywnej mówiącej o tym, iż jest ona większa. Wiadomo z całą pewnością, iż rozkład zawartości sacharozy w tabletkach jest normalny. Zbadano 12 elementową próbę tabletek, której wyniki były następujące: 1, 2, 2, 2, 2, 2, 2, 2, 2, 3, 3, 3. Przy poziomie istotności $\\alpha=0.05$ zweryfikować odpowiednie hipotezy. "
   ]
  },
  {
   "cell_type": "code",
   "execution_count": null,
   "metadata": {
    "id": "hMM-2tMmP8iG"
   },
   "outputs": [],
   "source": []
  },
  {
   "cell_type": "code",
   "execution_count": null,
   "metadata": {
    "id": "uRuiBdO1P8iH"
   },
   "outputs": [],
   "source": []
  },
  {
   "cell_type": "code",
   "execution_count": null,
   "metadata": {
    "id": "-pKbxP3cP8iH"
   },
   "outputs": [],
   "source": []
  },
  {
   "cell_type": "code",
   "execution_count": null,
   "metadata": {
    "id": "rSy4O4E6P8iH"
   },
   "outputs": [],
   "source": []
  },
  {
   "cell_type": "markdown",
   "metadata": {
    "id": "B3mEIr43P8iH"
   },
   "source": [
    "## Test dla wartości oczekiwanej - model 3\n",
    "Jeżeli próba pochodzi z dowolnego rozkładu (posiadającego jednakże skończoną wariancję), ale jest wystarczająco duża ($n\\geq 100)$, wówczas statystyka testowa przyjmuje postać\n",
    "\\begin{equation*}\n",
    "    T = \\frac{\\overline{X} - \\mu_0}{S}\\sqrt{n}.\n",
    "\\end{equation*}\n",
    "\n",
    "Przy założeniu prawdziwości hipotezy $H_0$ i dla dostatecznie dużej próby statystyka ma w przybliżeniu rozkład normalny standardowy $\\mathcal{N}(0,1)$, w związku z czym obszar krytyczny --- w zależności od przyjętej hipotezy alternatywnej --- ma postać\n",
    "\\begin{equation*}\n",
    "    \\begin{split}\n",
    "        W_{\\alpha} &= (-\\infty, -z_{1-\\frac{\\alpha}{2}}]\\cup[z_{1-\\frac{\\alpha}{2}}, +\\infty),\\\\\n",
    "        W_{\\alpha}^{'} &= (-\\infty, -z_{1-\\alpha}],\\\\\n",
    "        W_{\\alpha}^{''} &=[z_{1-\\alpha}, +\\infty].\n",
    "    \\end{split}\n",
    "\\end{equation*}"
   ]
  },
  {
   "cell_type": "markdown",
   "metadata": {
    "id": "C_ZyEFoQP8iH"
   },
   "source": [
    "**Zadanie - model 3.** W wylosowanej niezależnie próbie 140 zakładów zbadano koszty własne produkcji pewnego wyrobu. Stwierdzono, że średnie koszty wynoszą 540 zł z odchyleniem standardowym 150 zł. Czy na poziomie istotności 0.1 można twierdzić, że średnie koszty produkcji danego typu wyrobu są wyższe niż 500 zł?"
   ]
  },
  {
   "cell_type": "code",
   "execution_count": null,
   "metadata": {
    "id": "83qR5UHOP8iH"
   },
   "outputs": [],
   "source": []
  },
  {
   "cell_type": "code",
   "execution_count": null,
   "metadata": {
    "id": "J5Esdk44P8iH"
   },
   "outputs": [],
   "source": []
  },
  {
   "cell_type": "code",
   "execution_count": null,
   "metadata": {
    "id": "xsLxZtmkCw7Q"
   },
   "outputs": [],
   "source": []
  },
  {
   "cell_type": "code",
   "execution_count": null,
   "metadata": {
    "id": "wnYFoK78P8iH"
   },
   "outputs": [],
   "source": []
  },
  {
   "cell_type": "code",
   "execution_count": null,
   "metadata": {
    "id": "OGyBulyhP8iH"
   },
   "outputs": [],
   "source": []
  },
  {
   "cell_type": "markdown",
   "metadata": {
    "id": "H5MU6LDJP8iH"
   },
   "source": [
    "## ***Testy dla dwóch prób niezależnych\n",
    "W praktyce istotną rolę odgrywają testy statystyczne, za pomocą których można porównywać wartości oczekiwane badanej cechy w dwóch różnych zbiorowościach statystycznych. \n",
    "\n",
    "W szczególności interesująca jest weryfikacja hipotezy, że obie porównywalne średnie sa jednakowe\n",
    "\\begin{equation*}\n",
    "    H_0: \\mu_1 = \\mu_2,\n",
    "\\end{equation*}\n",
    "przy jednej z trzech hipotez alternatywnych:\n",
    "\\begin{equation*}\n",
    "    \\begin{split}\n",
    "        H_1&: \\mu_1 \\neq \\mu_2\\\\\n",
    "        H_1{'}&: \\mu_1 < \\mu_2\\\\\n",
    "        H_1''&: \\mu_1 > \\mu_2.\n",
    "    \\end{split}\n",
    "\\end{equation*}"
   ]
  },
  {
   "cell_type": "markdown",
   "metadata": {
    "id": "AjF5q3pUP8iI"
   },
   "source": [
    "## Test dla dwóch prób niezależnych - model 1\n",
    "Załóżmy, że próby $X_1, \\ldots, X_{n_1}$ i $Y_1, \\ldots, Y_{n_2}$ są niezależne i pochodzą z populacji o rozkładach normalnych, odpowiednio, $\\mathcal{N}(\\mu_1, \\sigma_1)$ i $\\mathcal{N}(\\mu_2, \\sigma_2)$ oraz odchylenia standardowe $\\sigma_1$ i $\\sigma_2$ są znane.\n",
    "\n",
    "Wówczas statystyka testowa ma postać\n",
    "$$\n",
    "    T = \\frac{\\overline{X} - \\overline{Y}}{\\sqrt{\\frac{\\sigma_1^2}{n_1} + \\frac{\\sigma_2^2}{n_2}}}.\n",
    "$$\n",
    "Statystyka przy założeniu prawdziwości hipotezy zerowej $H_0$ ma rozkład normalny $\\mathcal{N}(0, 1)$. Obszar krytyczny --- w zależności od przyjętej hipotezy alternatywnej --- ma postać\n",
    "\\begin{equation*}\n",
    "    \\begin{split}\n",
    "        W_{\\alpha} &= (-\\infty, -z_{1-\\frac{\\alpha}{2}}]\\cup[z_{1-\\frac{\\alpha}{2}}, +\\infty),\\\\\n",
    "        W_{\\alpha}^{'} &= (-\\infty, -z_{1-\\alpha}],\\\\\n",
    "        W_{\\alpha}^{''} &=[z_{1-\\alpha}, +\\infty].\n",
    "    \\end{split}\n",
    "\\end{equation*}"
   ]
  },
  {
   "cell_type": "markdown",
   "metadata": {
    "id": "Xj-_3ZfpP8iI"
   },
   "source": [
    "**Zadanie.** W celu porównania płac mężczyzn i kobiet zatrudnionych w pewnym dziale przemysłu pobrano próbkę losową 100 mężczyzn i 90 kobiet. Średnia płaca mężczyzn, obliczona na podstawie pobranej próbki, wyniosła 6280 zł, natomiast średnia płacy kobiet wyniosła 4210 zł. Na poziomie istotności 0.05 sprawdzić, czy średnia płaca kobiet zatrudnionych w tym dziale przemysłu jest istotnie niższa od średniej płacy mężczyzn. Zakładamy, że rozkład płacy mężczyzn i kobiet jest rozkładem normalnym z wariancjami, odpowiednio, 10000 zł oraz 6400 zł."
   ]
  },
  {
   "cell_type": "markdown",
   "metadata": {
    "id": "SvSRc8AsP8iI"
   },
   "source": [
    "$X$ - zmienna losowa, opisująca płace mężczyzn, $X\\sim\\mathcal{N}(\\mu_1, \\sigma_1)$, gdzie $\\mu_1=?$ i $\\sigma_1=100zł$.\n",
    "\n",
    "$Y$ - zmienna losowa, opisująca płace kobiet, $X\\sim\\mathcal{N}(\\mu_2, \\sigma_2)$, gdzie $\\mu_2=?$ i $\\sigma_2=80zł$.\n",
    "\n",
    "\n",
    "Testujemy hipoteze:\n",
    "    \\begin{equation*}\n",
    "    \\begin{split}\n",
    "        H_0: \\mu_1 &= \\mu_2\\\\\n",
    "        H_1: \\mu_1 &> \\mu_2,\n",
    "    \\end{split}\n",
    "    \\end{equation*}\n",
    "na poziomie istotności $\\alpha=0.05$."
   ]
  },
  {
   "cell_type": "code",
   "execution_count": null,
   "metadata": {
    "id": "nBLCeRY5DIdb"
   },
   "outputs": [],
   "source": []
  },
  {
   "cell_type": "code",
   "execution_count": null,
   "metadata": {
    "id": "f1OvPhIPDIVP"
   },
   "outputs": [],
   "source": []
  },
  {
   "cell_type": "code",
   "execution_count": null,
   "metadata": {
    "id": "PKfyRWoXDIK7"
   },
   "outputs": [],
   "source": []
  },
  {
   "cell_type": "markdown",
   "metadata": {
    "id": "-v7CGLjAP8iI"
   },
   "source": [
    "## Test dla dwóch prób niezależnych - model 2\n",
    "\n",
    "Załóżmy, że próby $X_1, \\ldots, X_{n_1}$ i $Y_1, \\ldots, Y_{n_2}$ są niezależne i pochodzą z populacji o rozkładach normalnych, odpowiednio, $\\mathcal{N}(\\mu_1, \\sigma_1)$ i $\\mathcal{N}(\\mu_2, \\sigma_2)$ o nieznanych odchyleniach standardowych $\\sigma_1$ i $\\sigma_2$, ale równych, tzn. $\\sigma_1=\\sigma_2$.\n",
    "\n",
    "Wówczas statystyka testowa ma postać\n",
    "\\begin{equation*}\n",
    "    T = \\frac{\\overline{X} - \\overline{Y}}{\\sqrt{\\frac{(n_1-1)S_1^2 + (n_2-1)S^2_2}{n_1+n_2-2}(\\frac{1}{n_1}+\\frac{1}{n_2})}}.\n",
    "\\end{equation*}\n",
    "Statystyka przy założeniu prawdziwości hipotezy zerowej $H_0$ ma rozkład $t$-Studenta o $n_1+n_2-2$ stopniach swobody. Obszar krytyczny --- w zależności od przyjętej hipotezy alternatywnej --- ma postać\n",
    "\\begin{equation*}\n",
    "    \\begin{split}\n",
    "        W_{\\alpha} &= (-\\infty, -t_{1-\\frac{\\alpha}{2}}^{[n_1+n_2-2]}]\\cup[t_{1-\\frac{\\alpha}{2}}^{[n_1+n_2-2]}, +\\infty),\\\\\n",
    "        W_{\\alpha}^{'} &= (-\\infty, -t_{1-\\alpha}^{[n_1+n_2-2]}],\\\\\n",
    "        W_{\\alpha}^{''} &=[t_{1-\\alpha}^{[n_1+n_2-2]}, +\\infty].\n",
    "    \\end{split}\n",
    "\\end{equation*}"
   ]
  },
  {
   "cell_type": "markdown",
   "metadata": {
    "id": "zLcgaRGPP8iI"
   },
   "source": [
    "**Zadanie - model 2.**  Zbadano dwie partie próbek 100 gramowych wątroby ze względu na zawartość węglowodanów. Zawartości węglowodanów dla I partii próbek (w g) były następujące: 15, 17, 16, 17, 18,5, 18, 17,5. Dla II partii liczącej $n=10$ próbek średnia zawartość węglowodanów wynosi $\\overline{Y}=15,5$g i odchylenie standardowe $S_2=1,1$g. Na poziomie istotności $\\alpha=0.05$ zweryfikować hipotezę, że badane partie próbek pochodzą z populacji generalnych o tej samej średniej zawartości węglowodanów."
   ]
  },
  {
   "cell_type": "code",
   "execution_count": null,
   "metadata": {
    "id": "TtLp6tmiP8iJ"
   },
   "outputs": [],
   "source": []
  },
  {
   "cell_type": "code",
   "execution_count": null,
   "metadata": {
    "id": "XWn11yJoP8iJ"
   },
   "outputs": [],
   "source": []
  },
  {
   "cell_type": "code",
   "execution_count": null,
   "metadata": {
    "id": "YwWg6BT0P8iJ"
   },
   "outputs": [],
   "source": []
  },
  {
   "cell_type": "code",
   "execution_count": null,
   "metadata": {
    "id": "hAB5nw4oP8iJ"
   },
   "outputs": [],
   "source": []
  },
  {
   "cell_type": "markdown",
   "metadata": {
    "id": "yGa1auE5P8iJ"
   },
   "source": [
    "**Zadanie - model 2.** Badano grubość płytek metalowych przed i po obróbce chemicznej. Dla 10 losowo wybranych płytek przed obróbką otrzymano średnią z próby 0.451 mm i wariancję z próby 0.02. Natomiast dla 15 losowo wybranych płytek po obróbce chemicznej otrzymano średnią z próby 0.550 mm z wariancją 0.017. Sprawdzić, czy grubość płytek zmienia się podczas obróbki. Założyć, że grubość płytek przed i po obróbce ma rozkład normalny o tej samej wariancji. Przyjąć poziom istotności 0.05."
   ]
  },
  {
   "cell_type": "code",
   "execution_count": null,
   "metadata": {
    "id": "mWeV7M7qP8iJ"
   },
   "outputs": [],
   "source": []
  },
  {
   "cell_type": "code",
   "execution_count": null,
   "metadata": {
    "id": "qx3qLNMqP8iJ"
   },
   "outputs": [],
   "source": []
  },
  {
   "cell_type": "code",
   "execution_count": null,
   "metadata": {
    "id": "XbSB7rM9P8iJ"
   },
   "outputs": [],
   "source": []
  },
  {
   "cell_type": "code",
   "execution_count": null,
   "metadata": {
    "id": "3ZX1L7NjP8iJ"
   },
   "outputs": [],
   "source": []
  },
  {
   "cell_type": "markdown",
   "metadata": {
    "id": "hRK7p1ksP8iJ"
   },
   "source": [
    "## Test dla dwóch prób niezależnych - model 3\n",
    "Załóżmy, że próby $X_1, \\ldots, X_{n_1}$ i $Y_1, \\ldots, Y_{n_2}$ są niezależne i pochodzą z populacji o rozkładach normalnych, odpowiednio, $\\mathcal{N}(\\mu_1, \\sigma_1)$ i $\\mathcal{N}(\\mu_2, \\sigma_2)$ o nieznanych i różnych odchyleniach standardowych $\\sigma_1$ i $\\sigma_2$, tzn. $\\sigma_1\\neq\\sigma_2$. Ponadto, próby są dostatecznie **duże**.\n",
    "\n",
    "Wówczas statystyka testowa ma postać\n",
    "\\begin{equation*}\n",
    "    T = \\frac{\\overline{X} - \\overline{Y}}{\\sqrt{\\frac{S_1^2}{n_1} + \\frac{S_2^2}{n_2}}}.\n",
    "\\end{equation*}\n",
    "Statystyka przy założeniu prawdziwości hipotezy zerowej $H_0$ ma rozkład normalny standardowy. Obszar krytyczny ma postać\n",
    "\\begin{equation*}\n",
    "    \\begin{split}\n",
    "        W_{\\alpha} &= (-\\infty, -z_{1-\\frac{\\alpha}{2}}]\\cup[z_{1-\\frac{\\alpha}{2}}, +\\infty),\\\\\n",
    "        W_{\\alpha}^{'} &= (-\\infty, -z_{1-\\alpha}],\\\\\n",
    "        W_{\\alpha}^{''} &=[z_{1-\\alpha}, +\\infty].\n",
    "    \\end{split}\n",
    "\\end{equation*}"
   ]
  },
  {
   "cell_type": "markdown",
   "metadata": {
    "id": "Mn8qvKOVP8iK"
   },
   "source": [
    "**Zadanie - model 3.** Wylosowana do badań budżetów rodzinnych w pewnym roku próba 120 rodzin zamieszkałych w Warszawie dała średnią 800 zł miesięcznych wydatków na mieszkanie oraz ochylenie standardowe 120 zł. Natomiast losowa próba 100 rodzin zamieszkałych w Łodzi dała średnią 650 zł miesięcznych wydatków na mieszkanie oraz odchylenie standardowe 150 zł. Przyjmując poziom istotności 0.01 zweryfikować hipotezę o jednakowych średnich wydatkach na mieszkanie rodzin w Warszawie i w Łodzi."
   ]
  },
  {
   "cell_type": "markdown",
   "metadata": {
    "id": "gtohhZPCP8iK"
   },
   "source": [
    "$X$ - zmienna losowa, opisująca miesięczne wydatki na mieszkanie w Warszawie,\n",
    "\n",
    "$Y$ - zmienna losowa, opisująca miesięczne wydatki na mieszkanie w Łodzi,\n",
    "\n",
    "\n",
    "Testujemy hipoteze:\n",
    "    \\begin{equation*}\n",
    "    \\begin{split}\n",
    "        H_0: \\mu_1 &= \\mu_2\\\\\n",
    "        H_1: \\mu_1 &\\neq\\mu_2,\n",
    "    \\end{split}\n",
    "    \\end{equation*}\n",
    "na poziomie istotności $\\alpha=0.01$."
   ]
  },
  {
   "cell_type": "code",
   "execution_count": null,
   "metadata": {
    "id": "5QwUzonmP8iK"
   },
   "outputs": [],
   "source": []
  },
  {
   "cell_type": "code",
   "execution_count": null,
   "metadata": {
    "id": "b5Bu5TJmP8iK"
   },
   "outputs": [],
   "source": []
  },
  {
   "cell_type": "code",
   "execution_count": null,
   "metadata": {
    "id": "nW7j8pBOP8iK"
   },
   "outputs": [],
   "source": []
  },
  {
   "cell_type": "code",
   "execution_count": null,
   "metadata": {
    "id": "a0ycNgn-P8iK"
   },
   "outputs": [],
   "source": []
  },
  {
   "cell_type": "markdown",
   "metadata": {
    "id": "QvMYsSIFP8iK"
   },
   "source": [
    "**Zadanie - model 3.** Porównano średnie ocen uzyskanych w ciągu ostatniego roku przez studentów dwóch równoległych lat informatyki i matematyki. Dla wydziału Informatyki średnia wyniosła 4.1 z wariancją 1.8, natomiast dla Wydziału Matematyki średnia wyniosła 3.6 z wariancją 2. Powyższe wyiki obliczono na podstawie 250 ocen uzyskanych przez studentów informatyki i 200 ocen studentów zarządzania. Na poziomie istotności 0.05 zweryfikować hipotezę, że przeciętne wyniki osiągane przez studentów informatyki są lepsze od przeciętnych wyników studentów matematyki."
   ]
  },
  {
   "cell_type": "code",
   "execution_count": null,
   "metadata": {
    "id": "bznMa8SrP8iK"
   },
   "outputs": [],
   "source": []
  },
  {
   "cell_type": "code",
   "execution_count": null,
   "metadata": {
    "id": "3AQA0aFDP8iK"
   },
   "outputs": [],
   "source": []
  },
  {
   "cell_type": "code",
   "execution_count": null,
   "metadata": {
    "id": "DaCVh9ZbP8iK"
   },
   "outputs": [],
   "source": []
  },
  {
   "cell_type": "code",
   "execution_count": null,
   "metadata": {
    "id": "Ibz3axKaP8iK"
   },
   "outputs": [],
   "source": []
  },
  {
   "cell_type": "markdown",
   "metadata": {
    "id": "Qw1XEFx_P8iK"
   },
   "source": [
    "## Testy dla wskaźnika struktury\n",
    "Zakładamy, że próba pochodzi z rozkładu dwupunktowego. Weryfikowana hipoteza dotyczy nieznanego parametru $p$\n",
    "\\begin{equation*}\n",
    "    H_0: p = p_0,\n",
    "\\end{equation*}\n",
    "wobec jednej z trzech hipotez alternatywnych\n",
    "\\begin{equation*}\n",
    "    \\begin{split}\n",
    "        H_1&: p \\neq p_0\\\\\n",
    "        H_1'&: p < p_0\\\\\n",
    "        H_1''&:p > p_0.\n",
    "    \\end{split}\n",
    "\\end{equation*}\n",
    "\n",
    "Do weryfikacji hipotezy $H_0$ wykorzystujemy wskaźnik struktury z próby \n",
    "\\begin{equation*}\n",
    "    \\hat{p} = \\frac{k}{n},\n",
    "\\end{equation*}\n",
    "gdzie $k$ jest liczbą elementów wyróżnionych w próbie o liczności $n$.\n"
   ]
  },
  {
   "cell_type": "markdown",
   "metadata": {
    "id": "jnp3zAlhP8iL"
   },
   "source": [
    "## Test dla wskaźnika struktury - model 1\n",
    "Jeżeli dysponujemy liczbą próbką $(n\\geq 100)$, wówczas statystyka testowa ma postać \n",
    "\\begin{equation*}\n",
    "    T = \\frac{k - np_0}{\\sqrt{np_0(1-p_0)}}.\n",
    "\\end{equation*}\n",
    "Na podstawie centralnego twierdzenia granicznego Moivre'a-Laplace'a wiemy, że statystyka $T$ ma w przybliżeniu rozkład $\\mathcal{N}(0, 1)$. Obszar krytyczny --- w zależności od przyjętej hipotezy alternatywnej --- ma postać\n",
    "\\begin{equation*}\n",
    "    \\begin{split}\n",
    "        W_{\\alpha} &= (-\\infty, -z_{1-\\frac{\\alpha}{2}}]\\cup[z_{1-\\frac{\\alpha}{2}}, +\\infty),\\\\\n",
    "        W_{\\alpha}^{'} &= (-\\infty, -z_{1-\\alpha}],\\\\\n",
    "        W_{\\alpha}^{''} &=[z_{1-\\alpha}, +\\infty].\n",
    "    \\end{split}\n",
    "\\end{equation*}\n"
   ]
  },
  {
   "cell_type": "markdown",
   "metadata": {
    "id": "yLlNGNVjP8iL"
   },
   "source": [
    "**Zadanie - model 1.** Umieralność na skutek drugiego zawału wynosi około 60%. Grupie studwudziestu pacjentom, którzy przeżyli zawał zaczęto podawać nowy lek. Dwudziestu z nich zmarło wskutek drugiego zawału. Czy można orzec, że nowy lek jest skuteczniejszy od stosowanych do tej pory? Przyjąć poziom istotności 0.05"
   ]
  },
  {
   "cell_type": "code",
   "execution_count": null,
   "metadata": {
    "id": "I4h_Z0RP0NGS"
   },
   "outputs": [],
   "source": [
    "# p_0=0.4"
   ]
  },
  {
   "cell_type": "code",
   "execution_count": null,
   "metadata": {
    "id": "RGJfkqDfDP_K"
   },
   "outputs": [],
   "source": [
    "# n = 120\n",
    "# k = 100"
   ]
  },
  {
   "cell_type": "code",
   "execution_count": null,
   "metadata": {
    "id": "SgnCYdBS0Mgn"
   },
   "outputs": [],
   "source": [
    "#H0: p=0.4\n",
    "#H1: p>0.4"
   ]
  },
  {
   "cell_type": "code",
   "execution_count": null,
   "metadata": {
    "id": "swtYPXmRDPyq"
   },
   "outputs": [],
   "source": [
    "# T = (k-n*p_0)/np.sqrt(n*p_0*(1-p_0))\n",
    "# T"
   ]
  },
  {
   "cell_type": "code",
   "execution_count": null,
   "metadata": {
    "id": "1ThVYdjYDPqq"
   },
   "outputs": [],
   "source": [
    "# stats.norm.ppf(0.95)"
   ]
  },
  {
   "cell_type": "code",
   "execution_count": null,
   "metadata": {
    "id": "fsTD2iFZDPhK"
   },
   "outputs": [],
   "source": [
    "# 1-stats.norm.cdf(T)"
   ]
  },
  {
   "cell_type": "code",
   "execution_count": null,
   "metadata": {
    "id": "GgMjkk4TP8iL"
   },
   "outputs": [],
   "source": []
  },
  {
   "cell_type": "markdown",
   "metadata": {
    "id": "9wYwzPcdP8iL"
   },
   "source": [
    "**Zadanie - model 1.** W losowej próbie 500 mieszkańców pewnego rejonu będących w wieku produkcyjnym znalazło się 126 bezrobotnych. Czy na poziomie istotności 0,05 można stwierdzić, że stopa bezrobocia w tym rejonie jest większa od 20%?"
   ]
  },
  {
   "cell_type": "code",
   "execution_count": null,
   "metadata": {
    "id": "mz8EhY-2P8iL"
   },
   "outputs": [],
   "source": []
  },
  {
   "cell_type": "code",
   "execution_count": null,
   "metadata": {
    "id": "P1rXjqrxP8iL"
   },
   "outputs": [],
   "source": []
  },
  {
   "cell_type": "code",
   "execution_count": null,
   "metadata": {
    "id": "ovyt_zOrP8iL"
   },
   "outputs": [],
   "source": []
  },
  {
   "cell_type": "code",
   "execution_count": null,
   "metadata": {
    "id": "oyBRwGwhP8iL"
   },
   "outputs": [],
   "source": []
  },
  {
   "cell_type": "markdown",
   "metadata": {
    "id": "hSPkgcnUP8iL"
   },
   "source": [
    "## Zadania\n",
    "1. Automat wytwarza tabliczki czekolady o nominalnej wadze 250g. Wiadomo, że rozkład wagi produkowanych tabliczek jest normalny z odchyleniem standardowym 5g. Kontrola techniczna pobrała próbę losową 16 tabliczek czekolady i otrzymała średnią wagę tabliczki równą 244g. Czy można na tej podstawie stwierdzić, że automat się rozregulował i zaniża wagę tabliczek? Zweryfikować odpowiedniąhipotezę na poziomie istotności 0.05.\n",
    "\n",
    "2.  Zbadano $n=140$ wylosowanych gospodarstw domowych w pewnym mieście ze względu na wysokość miesięcznych opłat za energię elektryczną. Spośród nich 84 gospodarstwa domowe płaciły miesięcznie za energię co najmniej 80 zł. Czy na poziomie istotności $\\alpha=0,05$ można stwierdzić, że procent gospodarstw domowych, których miesięczne opłaty za energię elektryczną wynosiły co najmniej 80 zł jest mniejszy niż 70%?\n",
    "\n",
    "3. Fabryka zakupiła nowy agregat. Producent zapewnia, że przeciętnie tylko jeden na 100 wyprodukowanych przez ten agregat detali jest wadliwy. Aby to sprawdzić, wylosowano 500 detali i okazało się, że 20 z nich nie spełnia normy jakości. Czy na podstawie takiego wyniku badań można obalić zapewnienie producenta agregatu? Przyjąć poziom istotności 0.1.\n",
    "\n",
    "4. W wyniku obserwacji dziennej liczby zakupów dokonywanych przez gospodarstwa domowe w mieście i na wsi ustalono, że liczby zakupów mają rozkład normalny z odchyleniami standardowymi, równymi odpowiednio, 6 i 3. Wybrano 16 gospodarst domowych w mieście i otrzymano średnią liczbę zakupów równą 20, a dla 9 gospodarstw domowych na wsi otrzymano średnią liczbę zakupów równą 16. Przyjmując poziom istotności 0.01, sprawdzić hipotezę, że średnia liczba zakupów dokonywanych dziennie przez rodziny na wsi jest mniejsza niż średnia liczba zakupów dokonywanych przez rodziny w mieście.\n",
    "\n",
    "5. Producent kondensatorów twierdzi, że mają one przeciętną pojemność 4.5 pF. Istnieje podejrzenie, że producent nieuczciwie zawyża tę wartość. Zakładając, że pojemność jest zmienną losową o rozkładzie normalnym $\\mathcal{N}(\\mu, 0.1)$, na poziomie istotności $\\alpha=0.1$, stawiając odpowiednią hipotezę sprawdzić, czy podejrzenie jest zasadne. W obliczeniach uwzględnić, że w wyniku 10 pomiarów pojemności kondensatorów otrzymano $\\overline{X}=4.47$pF. \n",
    "\n",
    "6. Producent  luksusowych  wyrobów  żywności  ekologicznej  twierdzi,  iż  średnia  zawartość bezwartościowych  substancji  w  opakowaniu  jego  wyrobu  nie  przekracza  1  mg  w  całej produkcji.  Zbadano  próbę  prostą  100  opakowań  jego  produktu.  Średnia  zawartość bezwartościowych  substancji  otrzymana  na  podstawie  100  elementowej  próby  prostej wyniosła  1,45  mg,  natomiast  wariancja  9  (mg$^2$). Przy  poziomie  istotności $\\alpha=0.01$ zweryfikować  hipotezę  zerową  mówiącą  o  tym,  ze  średnia  zawartość  bezwartościowych substancji  w  opakowaniu wyrobu tego producenta w całej produkcji wynosi 1 mg wobec hipotezy alternatywnej mówiącej o tym, że jest ona wyższa. Zakładamy, że rozkłąd zawartości bezwartościowych substancji w opakowaniu jest normalny."
   ]
  }
 ],
 "metadata": {
  "colab": {
   "provenance": []
  },
  "hide_input": false,
  "kernelspec": {
   "display_name": "Python 3 (ipykernel)",
   "language": "python",
   "name": "python3"
  },
  "language_info": {
   "codemirror_mode": {
    "name": "ipython",
    "version": 3
   },
   "file_extension": ".py",
   "mimetype": "text/x-python",
   "name": "python",
   "nbconvert_exporter": "python",
   "pygments_lexer": "ipython3",
   "version": "3.10.6"
  },
  "toc": {
   "base_numbering": 1,
   "nav_menu": {},
   "number_sections": true,
   "sideBar": true,
   "skip_h1_title": true,
   "title_cell": "Table of Contents",
   "title_sidebar": "Contents",
   "toc_cell": false,
   "toc_position": {},
   "toc_section_display": true,
   "toc_window_display": false
  },
  "varInspector": {
   "cols": {
    "lenName": 16,
    "lenType": 16,
    "lenVar": 40
   },
   "kernels_config": {
    "python": {
     "delete_cmd_postfix": "",
     "delete_cmd_prefix": "del ",
     "library": "var_list.py",
     "varRefreshCmd": "print(var_dic_list())"
    },
    "r": {
     "delete_cmd_postfix": ") ",
     "delete_cmd_prefix": "rm(",
     "library": "var_list.r",
     "varRefreshCmd": "cat(var_dic_list()) "
    }
   },
   "types_to_exclude": [
    "module",
    "function",
    "builtin_function_or_method",
    "instance",
    "_Feature"
   ],
   "window_display": false
  }
 },
 "nbformat": 4,
 "nbformat_minor": 1
}
