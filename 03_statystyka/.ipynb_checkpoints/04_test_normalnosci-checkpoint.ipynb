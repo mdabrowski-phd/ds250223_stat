{
 "cells": [
  {
   "cell_type": "markdown",
   "metadata": {
    "id": "Lk4Mh7MGibTP"
   },
   "source": [
    "# Testy normalności"
   ]
  },
  {
   "cell_type": "code",
   "execution_count": null,
   "metadata": {
    "id": "TDRqP6hxibTS"
   },
   "outputs": [],
   "source": [
    "import numpy as np\n",
    "import pandas as pd\n",
    "import matplotlib.pyplot as plt\n",
    "import statsmodels.api as sm\n",
    "import statsmodels.stats as sm_stats\n",
    "\n",
    "from scipy import stats"
   ]
  },
  {
   "cell_type": "markdown",
   "metadata": {
    "id": "Cszb1dQ4ibTT"
   },
   "source": [
    "Jednym z podstawowych kryteriów stosowalności technik statystycznych jest **rozkład danych**, do którego konkretna technika zostanie użyta. \n",
    "\n",
    "W podstawowych zastosowaniach interesuje nas właściwie jedynie czy rozkład populacji jest normalny, czy nie. Rozkład populacji staramy się ustalić na podstawie zebranej próby, więc w tym celu stosujemy odpowiednie testy statystyczne. \n",
    "\n",
    "Najbardziej uniwersalnym i w obecnych czasach najbardziej rozpowszechnionym testem używanym do tego celu jest **test Shapiro-Wilka**."
   ]
  },
  {
   "cell_type": "markdown",
   "metadata": {
    "id": "6jCzxG8KibTU"
   },
   "source": [
    "## Testy normalności - test Shapiro-Wilka\n",
    "\\begin{equation*}\n",
    "\\begin{split}\n",
    "    H_0&: \\text{rozkład badanej cechy jest normalny}\\\\\n",
    "    H_1&: \\text{rozkład badanej cechy nie jest normalny}\n",
    "\\end{split}\n",
    "\\end{equation*}\n",
    "\n",
    "Statystyka testowa \\textbf{testu Shapiro-Wilka} dana jest wzorem\n",
    "\\begin{equation*}\n",
    "    T = \\frac{\\Big( \\sum_{i=1}^{[\\frac{n}{2}]}a_i(n)(X_{n-i+1:n} - X_{i:n} \\Big)^2}{\\sum_{i=1}^n(X_i - \\overline{X})^2},\n",
    "\\end{equation*}\n",
    "gdzie $a_i(n)$ są pewnymi stałymi zależnymi od liczności próby, natomiast $[n/2]$ oznacza część całkowitą wyrażenia $n/2$.\n",
    "\n",
    "Obszar krytyczny ma postać\n",
    "\\begin{equation*}\n",
    "    W_{\\alpha} = (0, w(\\alpha, n)],\n",
    "\\end{equation*}\n",
    "gdzie $w(\\alpha, n)$ oznacza kwantyl rzędu $\\alpha$ rozkładu statystyki.\n"
   ]
  },
  {
   "cell_type": "code",
   "execution_count": null,
   "metadata": {
    "id": "G7izL2FBibTU"
   },
   "outputs": [],
   "source": [
    "# ?stats.shapiro"
   ]
  },
  {
   "cell_type": "markdown",
   "metadata": {
    "id": "XV3N6KZOibTW"
   },
   "source": [
    "## Zadanie \n",
    "Wygeneruj kilka próbek o różnej liczności z \n",
    "\n",
    "a) rozkładu normalnego,\n",
    "\n",
    "b) dla rozkładu chi-kwadrat,\n",
    "\n",
    "c) dla rozkładu wykładniczego,\n",
    "\n",
    "sporządź histogramy dla wygenerowanych próbek i sprawdź zachowanie się testu Shapiro-Wilka. Przyjmij poziom istotności 0.05."
   ]
  },
  {
   "cell_type": "code",
   "execution_count": null,
   "metadata": {
    "id": "uGbozBAGibTW"
   },
   "outputs": [],
   "source": [
    "n =10\n",
    "norm = stats.norm.rvs(size = n,loc = 2,scale = 0.5)\n",
    "print(stats.shapiro(norm))\n",
    "norm_error = stats.norm.rvs(size = n,loc = 2,scale = 0.5)+stats.uniform.rvs(size = n,loc = -0.6,scale = 1.2)\n",
    "print(stats.shapiro(norm_error))\n",
    "chi = stats.chi2.rvs(size = n, df = 5)\n",
    "print(stats.shapiro(chi))\n",
    "exp = stats.expon.rvs(size = n, scale = 1/2)\n",
    "print(stats.shapiro(exp))"
   ]
  },
  {
   "cell_type": "code",
   "execution_count": null,
   "metadata": {
    "id": "Yf_1Yr0SibTW"
   },
   "outputs": [],
   "source": [
    "n =5000\n",
    "norm = stats.norm.rvs(size = n,loc = 2,scale = 0.5)\n",
    "print(stats.shapiro(norm))\n",
    "norm_error = stats.norm.rvs(size = n,loc = 2,scale = 0.5)+stats.uniform.rvs(size = n,loc = -0.6,scale = 1.2)\n",
    "print(stats.shapiro(norm_error))\n",
    "chi = stats.chi2.rvs(size = n, df = 5)\n",
    "print(stats.shapiro(chi))\n",
    "exp = stats.expon.rvs(size = n, scale = 1/2)\n",
    "print(stats.shapiro(exp))"
   ]
  },
  {
   "cell_type": "code",
   "execution_count": null,
   "metadata": {
    "id": "b4EccIfVibTW"
   },
   "outputs": [],
   "source": [
    "n =5000\n",
    "k = 10000\n",
    "rej = []\n",
    "for i in range(k):\n",
    "    norm = stats.norm.rvs(size = n,loc = 2,scale = 0.5)\n",
    "    rej.append(stats.shapiro(norm)[1]<0.05)\n",
    "sum(rej)/k"
   ]
  },
  {
   "cell_type": "code",
   "execution_count": null,
   "metadata": {
    "id": "xwAuk18Ktufp"
   },
   "outputs": [],
   "source": [
    "n =5000\n",
    "k = 10000\n",
    "rej = []\n",
    "for i in range(k):\n",
    "    cau = stats.cauchy.rvs(size = n)\n",
    "    rej.append(stats.shapiro(cau)[1]>0.05)\n",
    "sum(rej)/k"
   ]
  },
  {
   "cell_type": "code",
   "execution_count": null,
   "metadata": {
    "id": "WM1YYoRbibTX"
   },
   "outputs": [],
   "source": []
  },
  {
   "cell_type": "markdown",
   "metadata": {
    "id": "dANAi20VibTX"
   },
   "source": [
    "## Zadanie\n",
    "Wygeneruj kilka próbek z rozkładu normalnego dla różnych parametrów $\\mu$ i $\\sigma$ i dla różnej liczności próbki i sprawdź ile razy zostanie odrzucona hipoteza o normalności rozkładu. Przyjmij poziom istotności 0.05."
   ]
  },
  {
   "cell_type": "code",
   "execution_count": null,
   "metadata": {
    "id": "507G_eC8ibTX"
   },
   "outputs": [],
   "source": []
  },
  {
   "cell_type": "code",
   "execution_count": null,
   "metadata": {
    "id": "3pjon47_ibTX"
   },
   "outputs": [],
   "source": []
  },
  {
   "cell_type": "code",
   "execution_count": null,
   "metadata": {
    "id": "r2JINqPxibTX"
   },
   "outputs": [],
   "source": []
  },
  {
   "cell_type": "markdown",
   "metadata": {
    "id": "EcjX2R59ibTX"
   },
   "source": [
    "## Zadanie\n",
    "Wygeneruj kilka próbek z rozkładu normalnego dla różnych parametrów $\\mu$ i $\\sigma$ i dla różnej liczności próbki. Przy generowaniu próbki dodaj pewien błąd. Sprawdź ile razy zostanie odrzucona hipoteza o normalności rozkładu. Przyjmij poziom istotności 0.05."
   ]
  },
  {
   "cell_type": "code",
   "execution_count": null,
   "metadata": {
    "id": "fByd1ZyKibTY"
   },
   "outputs": [],
   "source": []
  },
  {
   "cell_type": "code",
   "execution_count": null,
   "metadata": {
    "id": "UiEhvE0JibTY"
   },
   "outputs": [],
   "source": []
  },
  {
   "cell_type": "code",
   "execution_count": null,
   "metadata": {
    "id": "amirIIQ4ibTY"
   },
   "outputs": [],
   "source": []
  },
  {
   "cell_type": "code",
   "execution_count": null,
   "metadata": {
    "id": "wn_WPzWGibTY"
   },
   "outputs": [],
   "source": []
  },
  {
   "cell_type": "markdown",
   "metadata": {
    "id": "-l7Fk8u_ibTY"
   },
   "source": [
    "## ***Metody graficzne\n",
    "\n",
    "- histogram (z naniesionym fitem rozkładu normalnego)\n",
    "\n",
    "- $qq$-plot:\n",
    "    * oś x - teoretyczne kwantyle z rozkładu normalnego\n",
    "    * oś y - empiryczne kwantyle wyznaczone na podstawie próby; punkty na wykresie powinny układać wzdłuż prostej $y=x$."
   ]
  },
  {
   "cell_type": "code",
   "execution_count": null,
   "metadata": {
    "id": "Edw4gU3wibTY"
   },
   "outputs": [],
   "source": [
    "# ?stats.norm.fit\n",
    "# ?sm.qqplot"
   ]
  },
  {
   "cell_type": "code",
   "execution_count": null,
   "metadata": {
    "id": "Wy3TYrxV3XjW"
   },
   "outputs": [],
   "source": [
    "n = 100\n",
    "\n",
    "norm2 = stats.norm.rvs(size=n, loc=2, scale=0.5) + stats.uniform.rvs(size=n, loc=-2, scale=4)\n",
    "norm = stats.norm.rvs(size=n, loc=2, scale=0.5) \n",
    "chi = stats.chi2.rvs(size=n, df=5)\n",
    "exp = stats.expon.rvs(size=n, scale=1/2)"
   ]
  },
  {
   "cell_type": "code",
   "execution_count": null,
   "metadata": {
    "id": "QyT-cLR63we3"
   },
   "outputs": [],
   "source": [
    "sm.qqplot(norm, stats.norm, line='q')\n",
    "print(stats.shapiro(norm))\n",
    "plt.show()"
   ]
  },
  {
   "cell_type": "code",
   "execution_count": null,
   "metadata": {
    "id": "TLNaRJ9Z4VcD"
   },
   "outputs": [],
   "source": [
    "sm.qqplot(chi, stats.norm, line='q')\n",
    "print(stats.shapiro(chi))\n",
    "plt.show()"
   ]
  },
  {
   "cell_type": "code",
   "execution_count": null,
   "metadata": {
    "id": "nq67UBet5BWf"
   },
   "outputs": [],
   "source": [
    "sm.qqplot(norm2, stats.norm, line='q')\n",
    "print(stats.shapiro(norm2))\n",
    "plt.show()"
   ]
  },
  {
   "cell_type": "markdown",
   "metadata": {
    "id": "uG-oidOHibTZ"
   },
   "source": [
    "## Zadanie\n",
    "Wygeneruj kilka próbek o różnej liczności z \n",
    "\n",
    "a) rozkładu normalnego,\n",
    "\n",
    "b) rozkładu chi-kwadrat,\n",
    "\n",
    "c) rozkładu wykładniczego,\n",
    "\n",
    "sporządź histogramy z naniesionym filtrem rozkładu normalnego oraz wykresy $qq$-plot. Na podstawie otrzymanych rysunków oceń czy rozkład jest normalny."
   ]
  },
  {
   "cell_type": "code",
   "execution_count": null,
   "metadata": {
    "id": "9P6gEsPsibTZ"
   },
   "outputs": [],
   "source": [
    "n =10000\n",
    "norm = stats.norm.rvs(size = n,loc = 2,scale = 0.5)\n",
    "norm_error = stats.norm.rvs(size = n,loc = 2,scale = 0.5)+stats.uniform.rvs(size = n,loc = -0.6,scale = 1.2)\n",
    "chi = stats.chi2.rvs(size = n, df = 5)\n",
    "exp = stats.expon.rvs(size = n, scale = 1/2)\n",
    "cau = stats.cauchy.rvs(size = n)"
   ]
  },
  {
   "cell_type": "code",
   "execution_count": null,
   "metadata": {
    "id": "5R6kF6sIibTZ"
   },
   "outputs": [],
   "source": [
    "# histogram z naniesionym filtrem rozkładu normalnego\n",
    "m1, s1 = stats.norm.fit(norm)\n",
    "print(m1, s1)\n",
    "m2, s2 = stats.norm.fit(norm_error)\n",
    "print(m2, s2)\n",
    "m3, s3 = stats.norm.fit(chi)\n",
    "print(m3, s3)\n",
    "m4, s4 = stats.norm.fit(exp)\n",
    "print(m4, s4)\n",
    "\n",
    "m5, s5 = stats.norm.fit(exp)\n",
    "print(m5, s5)\n",
    "\n",
    "fig, ax = plt.subplots(2, 2, figsize=(20, 10))\n",
    "N_bins = 10\n",
    "\n",
    "x_range = np.linspace(norm.min(), norm.max(), 100)\n",
    "ax[0, 0].hist(norm, bins=N_bins, density=True, alpha=0.5)\n",
    "ax[0, 0].plot(x_range, stats.norm.pdf(x_range, m1, s1), '--')\n",
    "\n",
    "x_range = np.linspace(norm_error.min(), norm_error.max(), 100)\n",
    "ax[0, 1].hist(norm_error, bins=N_bins, density=True, alpha=0.5)\n",
    "ax[0, 1].plot(x_range, stats.norm.pdf(x_range, m2, s2), '--')\n",
    "\n",
    "x_range = np.linspace(chi.min(), chi.max(), 100)\n",
    "ax[1, 0].hist(chi, bins=N_bins, density=True, alpha=0.5)\n",
    "ax[1, 0].plot(x_range, stats.norm.pdf(x_range, m3, s3), '--')\n",
    "\n",
    "x_range = np.linspace(exp.min(), exp.max(), 100)\n",
    "ax[1, 1].hist(exp, bins=N_bins, density=True, alpha=0.5)\n",
    "ax[1, 1].plot(x_range, stats.norm.pdf(x_range, m4, s4), '--')\n",
    "\n",
    "x_range = np.linspace(norm.min(), norm.max(), 100)\n",
    "ax[1, 1].hist(cau, bins=N_bins, density=True, alpha=0.5)\n",
    "ax[1, 1].plot(x_range, stats.norm.pdf(x_range, m5, s5), '--')"
   ]
  },
  {
   "cell_type": "markdown",
   "metadata": {
    "id": "y6kDYwosibTZ"
   },
   "source": [
    "## ***Inne testy do badania normalności\n",
    "\n",
    "* testy oparte na kurtozie i skośności:\n",
    "    - [test D'Agostino $K^2$](https://en.wikipedia.org/wiki/D%27Agostino%27s_K-squared_test): `scipy.stats.normaltest`;\n",
    "\n",
    "    - [test Jarque–Bera](https://en.wikipedia.org/wiki/Jarque%E2%80%93Bera_test): `scipy.stats.jarque_bera`;\n",
    "    \n",
    "* testy oparte na dystrybuancie empirycznej:\n",
    "    - [test Kolmogorova–Smirnova](https://en.wikipedia.org/wiki/Kolmogorov%E2%80%93Smirnov_test): `scipy.stats.kstest`;\n",
    "    \n",
    "    - [test Lilliefors](https://en.wikipedia.org/wiki/Lilliefors_test): `statsmodels.stats.diagnostic.lilliefors`;"
   ]
  },
  {
   "cell_type": "markdown",
   "metadata": {
    "id": "KLJne4_MibTZ"
   },
   "source": [
    "## Test typu omnibus D’Agostino-Pearsona oparty o kurtozę i skośność\n",
    "Łącząc dwa testy otrzymuje się test czuły na odstępstwa od normalności zarówno w postaci niezerowej skośności jak i kurtozy istotnie różniej od 3.\n",
    "\n",
    "Statystyką testową jest\n",
    "$$\n",
    "K^2=(Z(\\sqrt{b_1}))^2+ (Z(b_2))^2,\n",
    "$$\n",
    "gdzie $Z(\\sqrt{b_1})$ to  statystyka  testowa  testu  opartego  o  skośność  a $Z(b_2)$  to  statystyka  testowa  testu opartego o kurtozę.\n",
    "\n",
    "Asymptotyczny rozkład tej statystyki to rozkład $\\chi^2$.\n",
    "\n",
    "Ponadto:\n",
    "$m_k = \\frac{1}{n}\\sum_{i=1}^n (x_i -\\overline{x})^k$, $\\sqrt{b_1} = \\frac{m_3}{m_2^{3/2}}$, $b_2 = \\frac{m4}{m_2^2}-3$.\n",
    "\n",
    "## Test typu omnibus Jarque-Bera oparty o kurtozę i skośność\n",
    "Innym testem opartym o kurtozę i skośność jest test Jarque-Bera. Statystyka testowaw przypadku tego testu ma łatwiejszą postać niż dla testu D’Agostino-Pearsona. Traci się jednak na niedokładnym oszacowaniu wartości krytycznych przy niewielkich wielkościach próby. Asymptotycznie ten test jest tak samo mocny jak test D’Agostino-Pearsona, ale na asymptotykę można liczyć jedynie w przypadku dużych prób.\n",
    "\n",
    "Statystyka testowa ma postać:\n",
    "$$\n",
    "    \\text{JB} = \\frac{n}{6}\\Big((\\sqrt{b_1})^2 + \\frac{1}{4}(b_2-3)^2\\Big).\n",
    "$$\n",
    "\n",
    "\n",
    "## Test Kołmogorova-Smirnova\n",
    "\n",
    "Test oparty o odległość supremum pomiędzy dystrybuantami empiryczną $F_n$ i teoretyczną $F$\n",
    "$$\n",
    "d(F_n, F) = \\sup_{x}|F_n(x) - F(x)|.\n",
    "$$\n",
    "\n",
    "Statystka testowa oparta o powyższą odległość sprowadza się do liczenia maksimum modułu różnicy dystrybuant w punktach skoku dystrybuanty empirycznej:\n",
    "$$\n",
    "D = \\max_{x_i}|F_n(x_i) - F(x_i)|.\n",
    "$$\n",
    "\n",
    "Rozkład statystyki testowej można wyznaczyć w sposób dokładny dla prostej hipotezy zerowej, a więc dla porównania z jednym określonym rozkładem. Asymptotycznie, ta statystyka przemnożona przez $\\sqrt{n}$ ma rozkład Kołmogorowa.\n",
    "\n",
    "Test ten pomimo łatwego opisu probabilistycznego nie jest stosowany z uwagi na moc niższą niż konkurencja.\n",
    "\n",
    "## Test Lillieforsa\n",
    "\n",
    "Ten test to modyfikacja testu Kołmogorowa-Smirnowa zaproponowana przez Huberta Lillieforsa, pozwalająca na testowanie zgodności z całą rodziną rozkładów normalnych, bez znajomości parametrów średniej i odchylenia standardowego (test Kołmogorowa-Smirnowa pozwala na zbadanie zgodnościz jednym określonym rozkładem).\n",
    "\n",
    "Statystyka testowa w przypadku testu Lillieforsa wygląda tak samo jak w przypadku testu Kołmogorowa-Smirnowa. Różnica polega na zastosowaniu innego rozkładu dla statystyki testowej (przybliżenie rozkładu dokładnego), uwzględniającego to, że hipoteza zerowa jest hipotezą złożoną."
   ]
  },
  {
   "cell_type": "code",
   "execution_count": null,
   "metadata": {
    "id": "vANo27qdibTa"
   },
   "outputs": [],
   "source": [
    "# ?stats.normaltest\n",
    "# ?stats.jarque_bera\n",
    "# ?stats.kstest\n",
    "# ?sm_stats.diagnostic.lilliefors"
   ]
  },
  {
   "cell_type": "markdown",
   "metadata": {
    "id": "pslWQxJkibTa"
   },
   "source": [
    "## Zadanie\n",
    "Napisz funkcję, która dla dowolnej próbki zwróci ramkę danych z wyznaczonymi statystykami testowymi i $p$-wartościami dla poznanych testów normalności."
   ]
  },
  {
   "cell_type": "code",
   "execution_count": null,
   "metadata": {
    "id": "9fVIstTSibTa"
   },
   "outputs": [],
   "source": [
    "def normal_tests(x):\n",
    "    pass"
   ]
  },
  {
   "cell_type": "markdown",
   "metadata": {
    "id": "MiPwiMBzibTb"
   },
   "source": [
    "## Zadanie\n",
    "Wczytaj dane `mtcars.csv` i sprawdź normalność każdej z kolumn (za pomocą testów statystycznych oraz metod graficznych). "
   ]
  },
  {
   "cell_type": "code",
   "execution_count": null,
   "metadata": {
    "id": "3BtQLSRvibTb"
   },
   "outputs": [],
   "source": [
    "mtcars = pd.read_csv(\"../data/mtcars.csv\")\n",
    "mtcars.head()"
   ]
  },
  {
   "cell_type": "code",
   "execution_count": null,
   "metadata": {
    "id": "9UucpCGnibTb"
   },
   "outputs": [],
   "source": []
  }
 ],
 "metadata": {
  "colab": {
   "provenance": []
  },
  "hide_input": false,
  "kernelspec": {
   "display_name": "Python 3 (ipykernel)",
   "language": "python",
   "name": "python3"
  },
  "language_info": {
   "codemirror_mode": {
    "name": "ipython",
    "version": 3
   },
   "file_extension": ".py",
   "mimetype": "text/x-python",
   "name": "python",
   "nbconvert_exporter": "python",
   "pygments_lexer": "ipython3",
   "version": "3.10.6"
  },
  "toc": {
   "base_numbering": 1,
   "nav_menu": {},
   "number_sections": true,
   "sideBar": true,
   "skip_h1_title": true,
   "title_cell": "Table of Contents",
   "title_sidebar": "Contents",
   "toc_cell": false,
   "toc_position": {},
   "toc_section_display": true,
   "toc_window_display": false
  },
  "varInspector": {
   "cols": {
    "lenName": 16,
    "lenType": 16,
    "lenVar": 40
   },
   "kernels_config": {
    "python": {
     "delete_cmd_postfix": "",
     "delete_cmd_prefix": "del ",
     "library": "var_list.py",
     "varRefreshCmd": "print(var_dic_list())"
    },
    "r": {
     "delete_cmd_postfix": ") ",
     "delete_cmd_prefix": "rm(",
     "library": "var_list.r",
     "varRefreshCmd": "cat(var_dic_list()) "
    }
   },
   "types_to_exclude": [
    "module",
    "function",
    "builtin_function_or_method",
    "instance",
    "_Feature"
   ],
   "window_display": false
  }
 },
 "nbformat": 4,
 "nbformat_minor": 1
}
