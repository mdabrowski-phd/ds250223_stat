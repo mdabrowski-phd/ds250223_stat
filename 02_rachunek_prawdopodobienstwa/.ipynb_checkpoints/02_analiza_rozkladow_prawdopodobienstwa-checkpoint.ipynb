{
 "cells": [
  {
   "cell_type": "markdown",
   "metadata": {
    "id": "LifQPxF0RoPu"
   },
   "source": [
    "# Analiza rozkładów prawdopobieństwa"
   ]
  },
  {
   "cell_type": "code",
   "execution_count": null,
   "metadata": {
    "id": "kXUAGRfZRoPx"
   },
   "outputs": [],
   "source": [
    "import numpy as np\n",
    "import matplotlib.pyplot as plt\n",
    "\n",
    "from scipy import stats"
   ]
  },
  {
   "cell_type": "markdown",
   "metadata": {
    "id": "eJfkUN3NRoPz"
   },
   "source": [
    "## Zadanie - rozkład dyskretny\n",
    "Zmienna losowa $X$ ma funkcje prawdopodobieństwa nastepującej postaci:\n",
    "\n",
    "| $x_i$ | -3  | -1  | 3   | 5   |\n",
    "|-------|-----|-----|-----|-----|\n",
    "| $p_i$ | 0.1 | 0.2 | 0.5 | 0.2 |\n",
    "\n",
    "\n",
    "a) Narysuj wykres rozkładu prawdopodobieństwa.\n",
    "\n",
    "*b) Narysuj dystrybuante $F$ tego rozkładu.\n",
    "\n",
    "c) Oblicz prawdopodobieństwa $P(X > 1)$ i $P( \\frac{1}{4} < X < 5)$.\n",
    "\n",
    "d) Oblicz wartość oczekiwaną, wariancję i odchylenie standardowe zmiennej X."
   ]
  },
  {
   "cell_type": "code",
   "execution_count": null,
   "metadata": {
    "id": "gZdPgLeeMrB0"
   },
   "outputs": [],
   "source": [
    "#a\n",
    "X = [-3,-1,3,5]\n",
    "p = [0.1,0.2,0.5,0.2]\n",
    "plt.scatter(x = X,y=p)\n",
    "plt.vlines(X,0,p,colors = 'g')\n"
   ]
  },
  {
   "cell_type": "code",
   "execution_count": null,
   "metadata": {
    "id": "pRfLXHUDxFDT"
   },
   "outputs": [],
   "source": [
    "#b)\n",
    "\n",
    "F = np.cumsum(p)\n",
    "\n",
    "x_lim = [-5] + X + [10]\n",
    "f = [0] + list(F)\n",
    "\n",
    "\n",
    "plt.scatter(X, F, label='cdf', color='r')\n",
    "plt.scatter(X, f[:-1], s=80, facecolors='none', edgecolors='r')\n",
    "plt.xlim([-5, 10])\n",
    "plt.ylim([-0.1, 1.1])\n",
    "\n",
    "for i in range(len(x_lim) - 1):\n",
    "   plt.hlines(xmin=x_lim[i], xmax=x_lim[i+1], y=f[i], color='black', alpha=0.5, linestyle='--')\n",
    "\n",
    "plt.show()"
   ]
  },
  {
   "cell_type": "code",
   "execution_count": null,
   "metadata": {
    "id": "rHM6XqeLxTqb"
   },
   "outputs": [],
   "source": [
    "#d\n",
    "X = np.array(X)\n",
    "p = np.array(p)\n",
    "\n",
    "ex = 0.1*-3+0.2*-1+0.5*3+0.2*5\n",
    "print(\"Wartość oczekiwana: {}\".format(ex))\n",
    "\n",
    "#ex2 = ?\n",
    "#print(\"Drugi moment: {}\".format(ex2))\n",
    "\n",
    "#var = ?\n",
    "#print(\"Wariancja: {}\".format(var))\n",
    "\n",
    "#std = ?\n",
    "#print(\"Odchylenie standardowe: {}\".format(std))"
   ]
  },
  {
   "cell_type": "markdown",
   "metadata": {
    "id": "YEJxc4PRRoP2"
   },
   "source": [
    "## ***Zadanie - rozkład ciągły\n",
    "Zmienna losowa X ma rozkład ciągły o gęstości:\n",
    "\n",
    "$$\n",
    "    f(x)=\\left.\n",
    "    \\begin{cases}\n",
    "    x \\quad &\\text{dla}\\quad 0<x\\leq 1\\\\\n",
    "    2-x \\quad &\\text{dla}\\quad 1<x\\leq 2\\\\\n",
    "    0 \\quad &\\text{dla}\\quad x>2, x\\le 0.\n",
    "    \\end{cases}\\right.\n",
    "$$\n",
    "\n",
    "\n",
    "a) Narysuj wykres gęstości.\n",
    "\n",
    "b) Wyznacz narysuj dystrybuante $F$ tego rozkładu.\n",
    "\n",
    "c) Oblicz prawdopodobieństwa $P(X > 1)$ i $P( \\frac{1}{4} < X \\leq 1)$.\n",
    "\n",
    "d) Oblicz wartość oczekiwaną, wariancję i odchylenie standardowe zmiennej X."
   ]
  },
  {
   "cell_type": "code",
   "execution_count": null,
   "metadata": {
    "id": "G0Zkjc_Mxfaq"
   },
   "outputs": [],
   "source": [
    "#a) \n",
    "xa = np.linspace(0, 1, 100)\n",
    "ya = xa\n",
    "\n",
    "xb = np.linspace(1, 2, 100)\n",
    "yb = 2 - xb\n",
    "\n",
    "plt.xlim([-3, 5])\n",
    "plt.plot(xa, ya, color='r')\n",
    "plt.plot(xb, yb, color='r')\n",
    "plt.hlines(xmin=-3, xmax=0, y=0, color='r')\n",
    "plt.hlines(xmin=2, xmax=5, y=0, color='r')"
   ]
  },
  {
   "cell_type": "markdown",
   "metadata": {
    "id": "y5imADvbYikm"
   },
   "source": [
    "$$\n",
    "    f(x)=\\left.\n",
    "    \\begin{cases}\n",
    "    x \\quad &\\text{dla}\\quad 0<x\\leq 1\\\\\n",
    "    2-x \\quad &\\text{dla}\\quad 1<x\\leq 2\\\\\n",
    "    0 \\quad &\\text{dla}\\quad x>2, x\\le 0.\n",
    "    \\end{cases}\\right.\n",
    "$$\n",
    "\n",
    "$$\n",
    "    F(x)=\\left.\n",
    "    \\begin{cases}\n",
    "    0 \\quad &\\text{dla}\\quad x\\leq 0\\\\\n",
    "    \\frac{x^2}{2} \\quad &\\text{dla}\\quad 0<x\\leq 1\\\\\n",
    "    -\\frac{x^2}{2}+2x-1 \\quad &\\text{dla}\\quad 1<x\\leq 2\\\\\n",
    "    1 \\quad &\\text{dla}\\quad x>2.\n",
    "    \\end{cases}\\right.\n",
    "$$"
   ]
  },
  {
   "cell_type": "markdown",
   "metadata": {
    "id": "1a05AzisjPkR"
   },
   "source": [
    "$P( \\frac{1}{4} < X \\leq 1) = P(X\\leq 1)-P(X\\leq \\frac{1}{4}) = F(1)-F(\\frac{1}{4})=0.5-1/32$\n",
    "\n"
   ]
  },
  {
   "cell_type": "code",
   "execution_count": null,
   "metadata": {
    "id": "Vh2wsNvyxmaj"
   },
   "outputs": [],
   "source": [
    "xa = np.linspace(0, 1, 100)\n",
    "ya = xa ** 2 / 2\n",
    "\n",
    "xb = np.linspace(1, 2, 100)\n",
    "yb = - xb**2 / 2 + 2 * xb - 1\n",
    "\n",
    "plt.xlim([-3, 5])\n",
    "plt.plot(xa, ya, color='r')\n",
    "plt.plot(xb, yb, color='r')\n",
    "plt.hlines(xmin=-3, xmax=0, y=0, color='r')\n",
    "plt.hlines(xmin=2, xmax=5, y=1, color='r')"
   ]
  }
 ],
 "metadata": {
  "colab": {
   "provenance": []
  },
  "hide_input": false,
  "kernelspec": {
   "display_name": "Python 3 (ipykernel)",
   "language": "python",
   "name": "python3"
  },
  "language_info": {
   "codemirror_mode": {
    "name": "ipython",
    "version": 3
   },
   "file_extension": ".py",
   "mimetype": "text/x-python",
   "name": "python",
   "nbconvert_exporter": "python",
   "pygments_lexer": "ipython3",
   "version": "3.10.6"
  },
  "toc": {
   "base_numbering": 1,
   "nav_menu": {},
   "number_sections": true,
   "sideBar": true,
   "skip_h1_title": true,
   "title_cell": "Table of Contents",
   "title_sidebar": "Contents",
   "toc_cell": false,
   "toc_position": {},
   "toc_section_display": true,
   "toc_window_display": false
  },
  "varInspector": {
   "cols": {
    "lenName": 16,
    "lenType": 16,
    "lenVar": 40
   },
   "kernels_config": {
    "python": {
     "delete_cmd_postfix": "",
     "delete_cmd_prefix": "del ",
     "library": "var_list.py",
     "varRefreshCmd": "print(var_dic_list())"
    },
    "r": {
     "delete_cmd_postfix": ") ",
     "delete_cmd_prefix": "rm(",
     "library": "var_list.r",
     "varRefreshCmd": "cat(var_dic_list()) "
    }
   },
   "types_to_exclude": [
    "module",
    "function",
    "builtin_function_or_method",
    "instance",
    "_Feature"
   ],
   "window_display": false
  }
 },
 "nbformat": 4,
 "nbformat_minor": 1
}
