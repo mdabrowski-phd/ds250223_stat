{
 "cells": [
  {
   "cell_type": "markdown",
   "metadata": {
    "id": "oJBJ3rWdlDnz"
   },
   "source": [
    "### Rozkład jednostajny - $U(a, b)$\n",
    "Zmienna losowa $X$ ma **rozkład jednostajny** na przedziale $[a,b]$, jeżeli gęstość $f$ jest postaci\n",
    "$$\n",
    "    f(x)=\\left.\n",
    "    \\begin{cases}\n",
    "    \\frac{1}{b-a} \\quad &\\text{dla}\\quad x\\in[a,b]\\\\\n",
    "    0 \\quad &\\text{dla}\\quad x\\not\\in [a,b]\n",
    "    \\end{cases}\\right.\n",
    "$$\n",
    "\n",
    "Wartość oczekiwana i wariancja dane są wzorami\n",
    "$$\n",
    "    \\mathbb{E}X = \\frac{a+b}{2}, \\quad \\text{Var}(X) = \\frac{(b-a)^2}{12}.\n",
    "$$"
   ]
  },
  {
   "cell_type": "code",
   "execution_count": null,
   "metadata": {
    "id": "VKrYhp5MlDn4"
   },
   "outputs": [],
   "source": [
    "import numpy as np\n",
    "import matplotlib.pyplot as plt\n",
    "\n",
    "from scipy import stats"
   ]
  },
  {
   "cell_type": "markdown",
   "metadata": {
    "id": "ET3hAqxHlDn5"
   },
   "source": [
    "### Zadanie\n",
    "1. Zdefiniuj zmienną losową dla rozkładu jednostajnego.\n",
    "2. Narysuj gęstość.\n",
    "3. Narysuj dystrybuantę.\n",
    "4. Wyznacz podstawowe charakterystyki rozkładu: średnia, wariancja, odchylenie standardowe.\n",
    "5. Wylosuj $n$ obserwacji z zdefiniowanego rozkładu.\n",
    "6. Narysujmy histogram dla wylosowanej powyżej próbki.\n",
    "7. Porównaj gęstości/dystrybuanty kilku różnych rozkładów jednostajnych."
   ]
  },
  {
   "cell_type": "code",
   "execution_count": null,
   "metadata": {
    "id": "T5Wih4x6e-c8"
   },
   "outputs": [],
   "source": [
    "uni = stats.uniform(loc=0,scale=1) #[a = loc,b = loc+scale]"
   ]
  },
  {
   "cell_type": "code",
   "execution_count": null,
   "metadata": {
    "id": "Cg5xlGMYyzoG"
   },
   "outputs": [],
   "source": [
    "#2. Gęstość = probability density function = pdf\n",
    "\n",
    "fig, ax = plt.subplots(1, 1)\n",
    "ax.set_xlim([-5, 6])\n",
    "ax.set_ylim([0, 1.2])\n",
    "\n",
    "x_value = np.linspace(-5, 6, 1000)\n",
    "ax.plot(x_value, uni.pdf(x_value), 'ro--', ms=2, label='uniform pdf')"
   ]
  },
  {
   "cell_type": "code",
   "execution_count": null,
   "metadata": {
    "id": "JWvU0Sekyuai"
   },
   "outputs": [],
   "source": [
    "# 3. Dystrybunta\n",
    "fig, ax = plt.subplots(1, 1)\n",
    "\n",
    "ax.set_xlim([-10, 10])\n",
    "ax.set_ylim([-0.1, 1.1])\n",
    "\n",
    "x = np.arange(-10, 10, 0.1)\n",
    "ax.plot(x, uni.cdf(x), 'r--', ms=1, label='uniform cdf')\n",
    "plt.show()"
   ]
  },
  {
   "cell_type": "code",
   "execution_count": null,
   "metadata": {
    "id": "zadJqoR5hOIf"
   },
   "outputs": [],
   "source": [
    "x = uni.rvs(10000)\n",
    "x.min(), x.max()"
   ]
  },
  {
   "cell_type": "code",
   "execution_count": null,
   "metadata": {
    "id": "QFnp3S8MhRq-"
   },
   "outputs": [],
   "source": [
    "fig, ax = plt.subplots(1, 1)\n",
    "ax.hist(x, histtype='stepfilled', alpha=0.2, density=True)\n",
    "x_value = np.linspace(-1, 2, 1000)\n",
    "plt.plot(x_value, uni.pdf(x_value), 'ro--', ms=2)\n",
    "plt.show()\n"
   ]
  },
  {
   "cell_type": "markdown",
   "metadata": {
    "id": "G_j6RctalDn7"
   },
   "source": [
    "### Zadanie\n",
    "\n",
    "Zakładając, że zmienna losowa X ma rozkład jednostajny na odcinku $[-5, 5]$, oblicz prawdopodobieństwo:\n",
    "\n",
    "a) $P(-3 < X \\leq 3)$;\n",
    "\n",
    "b) $P( X > 0)$;\n",
    "\n",
    "c) $P( X < -10)$."
   ]
  },
  {
   "cell_type": "code",
   "execution_count": null,
   "metadata": {
    "id": "Na7l1bnZlDn8"
   },
   "outputs": [],
   "source": []
  }
 ],
 "metadata": {
  "colab": {
   "provenance": []
  },
  "hide_input": false,
  "kernelspec": {
   "display_name": "Python 3 (ipykernel)",
   "language": "python",
   "name": "python3"
  },
  "language_info": {
   "codemirror_mode": {
    "name": "ipython",
    "version": 3
   },
   "file_extension": ".py",
   "mimetype": "text/x-python",
   "name": "python",
   "nbconvert_exporter": "python",
   "pygments_lexer": "ipython3",
   "version": "3.10.6"
  },
  "toc": {
   "base_numbering": 1,
   "nav_menu": {},
   "number_sections": true,
   "sideBar": true,
   "skip_h1_title": true,
   "title_cell": "Table of Contents",
   "title_sidebar": "Contents",
   "toc_cell": false,
   "toc_position": {},
   "toc_section_display": true,
   "toc_window_display": false
  },
  "varInspector": {
   "cols": {
    "lenName": 16,
    "lenType": 16,
    "lenVar": 40
   },
   "kernels_config": {
    "python": {
     "delete_cmd_postfix": "",
     "delete_cmd_prefix": "del ",
     "library": "var_list.py",
     "varRefreshCmd": "print(var_dic_list())"
    },
    "r": {
     "delete_cmd_postfix": ") ",
     "delete_cmd_prefix": "rm(",
     "library": "var_list.r",
     "varRefreshCmd": "cat(var_dic_list()) "
    }
   },
   "types_to_exclude": [
    "module",
    "function",
    "builtin_function_or_method",
    "instance",
    "_Feature"
   ],
   "window_display": false
  }
 },
 "nbformat": 4,
 "nbformat_minor": 1
}
