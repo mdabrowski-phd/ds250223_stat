{
 "cells": [
  {
   "cell_type": "markdown",
   "metadata": {
    "id": "GiyYMQJDa0TX"
   },
   "source": [
    "# Rozkład chi-kwadrat - $\\chi^2(n)$\n",
    "Zmienna losowa $X$ ma rozkład chi-kwadrat o $n\\in\\mathbb{N_+}$ stopniach swobody, jeżeli jej gęstość $f$~jest postaci\n",
    "$$\n",
    "f(x)=\\left.\n",
    "    \\begin{cases}\n",
    "    \\frac{1}{2^{\\frac{n}{2}}\\Gamma(\\frac{n}{2})}x^{\\frac{n-2}{2}}\\exp\\{-\\frac{x}{2}\\} \\quad &\\text{dla} \\quad x>0\\\\\n",
    "    0 \\quad &\\text{dla} \\quad x\\leq 0,\n",
    "    \\end{cases}\\right.\n",
    "$$\n",
    "\n",
    "Wartość oczekiwana i wariancja dane są wzorami\n",
    "$$\n",
    "    \\mathbb{E}X = n, \\quad \\text{Var}(X) = 2n.\n",
    "$$"
   ]
  },
  {
   "cell_type": "markdown",
   "metadata": {
    "id": "erf56nUPa0Tb"
   },
   "source": [
    "https://docs.scipy.org/doc/scipy/reference/generated/scipy.stats.chi2.html#scipy.stats.chi2"
   ]
  },
  {
   "cell_type": "code",
   "execution_count": null,
   "metadata": {
    "id": "-FhvH2q6a0Tb"
   },
   "outputs": [],
   "source": [
    "import numpy as np\n",
    "import matplotlib.pyplot as plt\n",
    "\n",
    "from scipy import stats"
   ]
  },
  {
   "cell_type": "markdown",
   "metadata": {
    "id": "vXFJeErPa0Tc"
   },
   "source": [
    "### Zadanie\n",
    "1. Zdefiniuj zmienną losową dla rozkładu chi kwadrat.\n",
    "2. Narysuj gęstość dla kilku wybranych stopni swobody. Zwróć uwagę na dziedzinę gęstości.\n",
    "3. Narysuj dystrybuantę dla kilku wybranych stopni swobody.\n",
    "4. Wyznacz podstawowe charakterystyki rozkładu: średnia, wariancja, odchylenie standardowe.\n",
    "5. Wylosuj $n$ obserwacji z zdefiniowanego rozkładu.\n",
    "6. Narysujmy histogram dla wylosowanej powyżej próbki."
   ]
  },
  {
   "cell_type": "code",
   "execution_count": null,
   "metadata": {
    "id": "Mtjziu1Oa0Tc"
   },
   "outputs": [],
   "source": []
  },
  {
   "cell_type": "code",
   "execution_count": null,
   "metadata": {
    "id": "8fBkPHXIa0Td"
   },
   "outputs": [],
   "source": []
  },
  {
   "cell_type": "code",
   "execution_count": null,
   "metadata": {
    "id": "_pjc05TJa0Td"
   },
   "outputs": [],
   "source": []
  },
  {
   "cell_type": "code",
   "execution_count": null,
   "metadata": {
    "id": "_usNNDZ6a0Td"
   },
   "outputs": [],
   "source": []
  },
  {
   "cell_type": "markdown",
   "metadata": {
    "id": "AhkOCs67a0Td"
   },
   "source": [
    "## Zadanie - sprawdzenie empiryczne - do domu\n",
    "Sprawdzić empirycznie następujące własności:\n",
    "\n",
    "1. Jeśli $X_1, \\ldots, X_n$ będzie próbą z rozkładu normalnego $\\mathcal{N}(0,1)$, to zmienna losowa $Y=X_1^2+\\ldots+X_n^2$ ma rozkład chi-kwadrat o $n$ stopniach swobody.\n",
    "2. Jeśli $X_1, \\ldots, X_n$ będzie próbą z rozkładu normalnego $\\mathcal{N}(\\mu,\\sigma)$ oraz niech $\\tilde{S}^2=\\frac{1}{n}\\sum_{i=1}^n(X_i-\\mu)^2$, to zmienna losowa $Y=\\frac{n\\tilde{S}^2}{\\sigma^2}$ ma rozkład chi-kwadrat o $n$ stopniach swobody.\n",
    "3. Jeśli $X_1, \\ldots, X_n$ będzie próbą z rozkładu normalnego $\\mathcal{N}(0,1)$, to zmienna losowa $Y=\\sum_{i=1}^n(X_i-\\overline{X})^2$ ma rozkład chi-kwadrat o $n-1$ stopniach swobody.\n",
    "4. Jeśli $X_1, \\ldots, X_n$ będzie próbą z rozkładu normalnego $\\mathcal{N}(\\mu,\\sigma)$ oraz niech $S^2=\\frac{1}{n-1}\\sum_{i=1}^n(X_i-\\overline{X})^2$, to zmienna losowa $Y=\\frac{(n-1)S^2}{\\sigma^2}$ ma rozkład chi-kwadrat o $n-1$ stopniach swobody."
   ]
  },
  {
   "cell_type": "code",
   "execution_count": null,
   "metadata": {
    "id": "Qh_PG_hGa0Te"
   },
   "outputs": [],
   "source": []
  },
  {
   "cell_type": "code",
   "execution_count": null,
   "metadata": {
    "id": "MB29gFUGa0Te"
   },
   "outputs": [],
   "source": []
  },
  {
   "cell_type": "code",
   "execution_count": null,
   "metadata": {
    "id": "4L3p28-ga0Te"
   },
   "outputs": [],
   "source": []
  },
  {
   "cell_type": "code",
   "execution_count": null,
   "metadata": {
    "id": "ja4Y24mKa0Te"
   },
   "outputs": [],
   "source": []
  },
  {
   "cell_type": "code",
   "execution_count": null,
   "metadata": {
    "id": "D3pzJ1saa0Te"
   },
   "outputs": [],
   "source": []
  },
  {
   "cell_type": "code",
   "execution_count": null,
   "metadata": {
    "id": "UCez7RUaa0Te"
   },
   "outputs": [],
   "source": []
  }
 ],
 "metadata": {
  "colab": {
   "provenance": []
  },
  "hide_input": false,
  "kernelspec": {
   "display_name": "Python 3 (ipykernel)",
   "language": "python",
   "name": "python3"
  },
  "language_info": {
   "codemirror_mode": {
    "name": "ipython",
    "version": 3
   },
   "file_extension": ".py",
   "mimetype": "text/x-python",
   "name": "python",
   "nbconvert_exporter": "python",
   "pygments_lexer": "ipython3",
   "version": "3.10.6"
  },
  "toc": {
   "base_numbering": 1,
   "nav_menu": {},
   "number_sections": true,
   "sideBar": true,
   "skip_h1_title": true,
   "title_cell": "Table of Contents",
   "title_sidebar": "Contents",
   "toc_cell": false,
   "toc_position": {},
   "toc_section_display": true,
   "toc_window_display": false
  },
  "varInspector": {
   "cols": {
    "lenName": 16,
    "lenType": 16,
    "lenVar": 40
   },
   "kernels_config": {
    "python": {
     "delete_cmd_postfix": "",
     "delete_cmd_prefix": "del ",
     "library": "var_list.py",
     "varRefreshCmd": "print(var_dic_list())"
    },
    "r": {
     "delete_cmd_postfix": ") ",
     "delete_cmd_prefix": "rm(",
     "library": "var_list.r",
     "varRefreshCmd": "cat(var_dic_list()) "
    }
   },
   "types_to_exclude": [
    "module",
    "function",
    "builtin_function_or_method",
    "instance",
    "_Feature"
   ],
   "window_display": false
  }
 },
 "nbformat": 4,
 "nbformat_minor": 1
}
