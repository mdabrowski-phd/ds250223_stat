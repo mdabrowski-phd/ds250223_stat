{
 "cells": [
  {
   "cell_type": "markdown",
   "metadata": {
    "id": "kVGeme6ezLKd"
   },
   "source": [
    "# Rozkład normalny - $\\mathcal{N}(\\mu, \\sigma)$\n",
    "Zmienna losowa $X$ ma **rozkład normalny** z parametrami $\\mu$ i $\\sigma>0$, jeżeli jej gęstość $f$ jest postaci\n",
    "$$\n",
    "    f(x)=\\frac{1}{\\sqrt{2\\pi}\\sigma}\\exp{-\\frac{(x-\\mu)^2}{2\\sigma^2}} \\quad \\text{dla} \\quad x\\in\\mathbb{R}.\n",
    "$$\n",
    "\n",
    "Wartość oczekiwana i wariancja dane są wzorami\n",
    "$$\n",
    "    \\mathbb{E}X = \\mu, \\quad \\text{Var}(X) = \\sigma^2.\n",
    "$$"
   ]
  },
  {
   "cell_type": "code",
   "execution_count": null,
   "metadata": {
    "id": "JwU1-IGwzLKh"
   },
   "outputs": [],
   "source": [
    "# import numpy as np\n",
    "import matplotlib.pyplot as plt\n",
    "\n",
    "from scipy import stats"
   ]
  },
  {
   "cell_type": "markdown",
   "metadata": {
    "id": "42kKjZBPzLKi"
   },
   "source": [
    "### Zadanie\n",
    "1. Zdefiniuj zmienną losową dla rozkładu normalnego.\n",
    "2. Narysuj gęstość.\n",
    "3. Narysuj dystrybuantę.\n",
    "4. Narysuj na jednym wykresie, gęstości dla rozkładu normalnego dla kilku par różnych wartości $\\mu$ i $\\sigma$.\n",
    "5. Wyznacz podstawowe charakterystyki rozkładu: średnia, wariancja, odchylenie standardowe.\n",
    "6. Wylosuj $n$ obserwacji z zdefiniowanego rozkładu i narysujmy dla nich histogram."
   ]
  },
  {
   "cell_type": "markdown",
   "metadata": {
    "id": "0aE4fMHxzLKj"
   },
   "source": [
    "https://docs.scipy.org/doc/scipy/reference/generated/scipy.stats.norm.html"
   ]
  },
  {
   "cell_type": "code",
   "execution_count": null,
   "metadata": {
    "id": "tO-n1WzszLKj"
   },
   "outputs": [],
   "source": [
    "norm01 = stats.norm(loc = 0,scale = 1)"
   ]
  },
  {
   "cell_type": "code",
   "execution_count": null,
   "metadata": {
    "id": "0ehY9tf-zLKk"
   },
   "outputs": [],
   "source": [
    "# 2. Gęstość\n",
    "fig, ax = plt.subplots(1, 1)\n",
    "ax.set_xlim([-10, 10])\n",
    "ax.set_ylim([0, 0.5])\n",
    "\n",
    "x_value = np.linspace(-10, 10, 1000)\n",
    "ax.plot(x_value, norm01.pdf(x_value), 'ro--', ms=2, label='norm(0,1) pdf')"
   ]
  },
  {
   "cell_type": "code",
   "execution_count": null,
   "metadata": {
    "id": "9sLKVWTazLKk"
   },
   "outputs": [],
   "source": [
    "# 3. Dystrybuanta\n",
    "fig, ax = plt.subplots(1, 1)\n",
    "\n",
    "ax.set_xlim([-10, 10])\n",
    "ax.set_ylim([-0.1, 1.1])\n",
    "\n",
    "x = np.arange(-10, 10, 0.1)\n",
    "ax.plot(x, norm01.cdf(x), 'ro--', ms=1, label='norm(0,1) cdf 1')\n",
    "plt.show()"
   ]
  },
  {
   "cell_type": "code",
   "execution_count": null,
   "metadata": {
    "id": "lJqGcFE8zLKk"
   },
   "outputs": [],
   "source": [
    "# 4. Porównanie rozkładów\n",
    "norm03 = stats.norm(loc=0, scale=3)\n",
    "norm005 = stats.norm(loc=0, scale=0.5)\n",
    "norm11 = stats.norm(loc=1, scale=1)\n",
    "norm13 = stats.norm(loc=1, scale=3)\n",
    "norm105 = stats.norm(loc=1, scale=0.5)"
   ]
  },
  {
   "cell_type": "code",
   "execution_count": null,
   "metadata": {
    "id": "YSmM6_WizLKl"
   },
   "outputs": [],
   "source": [
    "fig, ax = plt.subplots(1, 1)\n",
    "ax.set_xlim([-10, 10])\n",
    "ax.set_ylim([0, 1])\n",
    "\n",
    "x_value = np.linspace(-10, 10, 100)\n",
    "ax.plot(x_value, norm01.pdf(x_value), 'ro--', ms=1, label='norm(0,1) pdf')\n",
    "ax.plot(x_value, norm03.pdf(x_value), 'go--', ms=1, label='norm(0,3) pdf')\n",
    "ax.plot(x_value, norm005.pdf(x_value), 'bo--', ms=1, label='norm(0,0.5) pdf')\n",
    "ax.plot(x_value, norm11.pdf(x_value), 'ko--', ms=1, label='norm(1,1) pdf')\n",
    "ax.plot(x_value, norm13.pdf(x_value), 'yo--', ms=1, label='norm(1,3) pdf')\n",
    "ax.plot(x_value, norm105.pdf(x_value), 'mo--', ms=1, label='norm(1,0.5) pdf')\n",
    "ax.legend(loc='best', frameon=False)"
   ]
  },
  {
   "cell_type": "code",
   "execution_count": null,
   "metadata": {
    "id": "EqFtWtNpzLKl"
   },
   "outputs": [],
   "source": [
    "# 6. Próbka z rozkładu normalnego i histogram\n",
    "x = norm01.rvs(1000)\n",
    "\n",
    "fig, ax = plt.subplots(1, 1)\n",
    "\n",
    "ax.hist(x, histtype='stepfilled', alpha=0.2, density=True)\n",
    "\n",
    "x_value = np.linspace(-10, 10, 100)\n",
    "ax.plot(x_value, norm01.pdf(x_value), 'ro--', ms=1, label='norm(0,1) pdf')\n",
    "\n",
    "plt.show()"
   ]
  },
  {
   "cell_type": "markdown",
   "metadata": {
    "id": "IsTdJ7ZrzLKl"
   },
   "source": [
    "## Standaryzacja\n",
    "\n",
    "Dowolny rozkład normalny $\\mathcal{N}(\\mu, \\sigma)$ można sprowadzić do rozkładu normalnego o zerowej wartości oczekiwanej i jednostkowym odchyleniu standardowym, tzn.$\\mathcal{N}(0,1)$.\n",
    "\n",
    "Jeżeli zmienna losowa $X\\sim \\mathcal{N}(\\mu, \\sigma)$, wówczas zmienna losowa\n",
    "$$Y=\\frac{X-\\mu}{\\sigma} \\sim \\mathcal{N}(0, 1).$$\n",
    "\n",
    "Własność ta jest o tyle istotna, że rozkład $\\mathcal{N}(0, 1)$ zwany \\textbf{rozkładem normalnym standardowym}, jest stablicowany, co bardzo ułatwia dokonywanie obliczeń."
   ]
  },
  {
   "cell_type": "markdown",
   "metadata": {
    "id": "C6ib1EDkzLKm"
   },
   "source": [
    "### Zadanie\n",
    "Sprawdzić empirycznie następujące własności:\n",
    "1. Jeśli $X_1, \\ldots, X_n$ będzie próbą z rozkładu normalnego $\\mathcal{N}(\\mu,\\sigma)$ to próba $Y_1, \\ldots, Y_n$, gdzie $Y_i = \\frac{X_i-\\mu}{\\sigma}$, będzie probą z rozkładu $\\mathcal{N}(0,1)$.\n",
    "2. Jeśli $X_1, \\ldots, X_n$ będzie próbą z rozkładu normalnego $\\mathcal{N}(\\mu,\\sigma)$, to $\\overline{X}$ pochodzi z rozkładu normalnego $\\mathcal{N}(\\mu, \\frac{\\sigma}{\\sqrt{n}}).$"
   ]
  },
  {
   "cell_type": "code",
   "execution_count": null,
   "metadata": {
    "id": "ECkDm8KwzLKm"
   },
   "outputs": [],
   "source": [
    "norm205 = stats.norm(loc=20, scale=5)\n",
    "x = norm205.rvs(1000)"
   ]
  },
  {
   "cell_type": "code",
   "execution_count": null,
   "metadata": {
    "id": "GhpVTZoLzLKm"
   },
   "outputs": [],
   "source": [
    "fig, ax = plt.subplots(1, 1)\n",
    "\n",
    "ax.hist(x, histtype='stepfilled', alpha=0.2, density=True)"
   ]
  },
  {
   "cell_type": "code",
   "execution_count": null,
   "metadata": {
    "id": "NV54m8XFzLKn"
   },
   "outputs": [],
   "source": [
    "y = (x-20)/5"
   ]
  },
  {
   "cell_type": "code",
   "execution_count": null,
   "metadata": {
    "id": "FV-WUq7EzLKn"
   },
   "outputs": [],
   "source": [
    "fig, ax = plt.subplots(1, 1)\n",
    "\n",
    "ax.hist(y, histtype='stepfilled', alpha=0.2, density=True)\n",
    "x_value = np.linspace(-10, 10, 100)\n",
    "ax.plot(x_value, norm01.pdf(x_value), 'ro--', ms=1, label='norm(0,1) pdf')\n",
    "\n",
    "plt.show()"
   ]
  },
  {
   "cell_type": "code",
   "execution_count": null,
   "metadata": {
    "id": "bxXdqmqUzLKn"
   },
   "outputs": [],
   "source": [
    "n=1000\n",
    "means = []\n",
    "norm205 = stats.norm(loc=20, scale=5)\n",
    "for i in range(0, 1000):\n",
    "  x = norm205.rvs(n)\n",
    "  means.append(np.mean(x))\n",
    "means = np.array(means)\n",
    "\n",
    "fig, ax = plt.subplots(1, 1)\n",
    "\n",
    "normmean = stats.norm(loc=20, scale=5/np.sqrt(n))\n",
    "ax.hist(means, histtype='stepfilled', alpha=0.2, density=True)\n",
    "x_value = np.linspace(15,25, 100)\n",
    "ax.plot(x_value, normmean.pdf(x_value), 'ro--', ms=1, label='norm(0,1) pdf')\n",
    "\n",
    "plt.show()"
   ]
  },
  {
   "cell_type": "code",
   "execution_count": null,
   "metadata": {
    "id": "lH4lNqBuzLKn"
   },
   "outputs": [],
   "source": []
  },
  {
   "cell_type": "markdown",
   "metadata": {
    "id": "REH1zPZCzLKn"
   },
   "source": [
    "## Dystrybuanta\n"
   ]
  },
  {
   "cell_type": "markdown",
   "metadata": {
    "id": "nEAv5BJQzLKo"
   },
   "source": [
    "Zmienna losowa $X$ jest typu ciągłego, jeżeli istnieje **nieujemna** funkcja $f$ - zwana gęstością - taka, że dystrybuantę tej zmiennej losowej można przedstawić jako:\n",
    "$$\n",
    "\\text{CDF}(x)=F(x) = P(X\\in(-\\infty, x]) = P(X\\leq x) = \\int_{-\\infty}^x f(t)dt,\n",
    "$$\n",
    "dla $x\\in\\mathbb{R}$."
   ]
  },
  {
   "cell_type": "code",
   "execution_count": null,
   "metadata": {
    "id": "AQQJx0IGzVan"
   },
   "outputs": [],
   "source": [
    "norm01 = stats.norm()\n",
    "fig, ax = plt.subplots(1, 2, figsize=(20, 10))\n",
    "\n",
    "x0 = 0\n",
    "a, b = -5, 5\n",
    "x_value = np.linspace(a, b, 100)\n",
    "\n",
    "x = np.linspace(a, x0)\n",
    "y = norm01.pdf(x)\n",
    "\n",
    "ax[0].plot(x_value, norm01.pdf(x_value))\n",
    "ax[0].fill_between(x, y, alpha=0.2)\n",
    "ax[0].text(x0-1.3, 0.1, 0.5, size=30)\n",
    "ax[0].set_xlabel('x')\n",
    "ax[0].set_ylabel('PDF(x)')\n",
    "\n",
    "ax[1].plot(x_value, norm01.cdf(x_value))\n",
    "plt.vlines(x0, 0, norm01.cdf(x0), linestyles='--')\n",
    "plt.hlines(0.5, a, x0, linestyles='--')\n",
    "ax[1].set_xlabel('x')\n",
    "ax[1].set_ylabel('CDF(x)')\n",
    "plt.show()"
   ]
  },
  {
   "cell_type": "code",
   "execution_count": null,
   "metadata": {
    "id": "f_FuPdBUzd6e"
   },
   "outputs": [],
   "source": [
    "fig, ax = plt.subplots(1, 2, figsize=(20, 10))\n",
    "\n",
    "x0 = 1\n",
    "\n",
    "a, b = -5, 5\n",
    "x_value = np.linspace(a, b, 100)\n",
    "\n",
    "x = np.linspace(a, x0)\n",
    "y = norm01.pdf(x)\n",
    "\n",
    "ax[0].plot(x_value, norm01.pdf(x_value))\n",
    "ax[0].fill_between(x, y, alpha=0.2)\n",
    "ax[0].set_xticks([-4, -2, 0, x0, 2, 4])\n",
    "ax[0].text(x0-1.3, 0.1, '??', size=30)\n",
    "ax[0].set_xlabel('x')\n",
    "ax[0].set_ylabel('PDF(x)')\n",
    "\n",
    "ax[1].plot(x_value, norm01.cdf(x_value))\n",
    "plt.vlines(x0, 0, norm01.cdf(x0), linestyles='--')\n",
    "plt.hlines(norm01.cdf(1), a, x0, linestyles='--')\n",
    "ax[1].set_xticks([-4, -2, 0, x0, 2, 4])\n",
    "ax[1].set_yticks([0, 0.2, 0.4, 0.6, 0.8, norm01.cdf(1), 1])\n",
    "ax[1].set_xlabel('x')\n",
    "ax[1].set_ylabel('CDF(x)')\n",
    "plt.show()"
   ]
  },
  {
   "cell_type": "markdown",
   "metadata": {
    "id": "CFGUDXsEzLKp"
   },
   "source": [
    "## Zadania\n",
    "\n",
    "1. Oblicz następujące prawdopodobieństwa:\n",
    "\n",
    "    a) $P(X\\leq 5)$, gdy $X\\sim\\mathcal{N}(-1, 2)$,\n",
    "    \n",
    "    b) $P(X>-2)$, gdy $X\\sim\\mathcal{N}(1, 5)$,\n",
    "    \n",
    "    c) $P(X<0)$, gdy $X\\sim\\mathcal{N}(5, 0.2)$.\n",
    "\n",
    "2. W pewnej dużej korporacji średnia miesięczna pensja pracowników średniego szczebla wynosi 10000 zł z odchyleniem standardowym 500 zł. Zakładamy, że rozkład zarobków pracowników jest w przybliżeniu rozkładem normalnym. Wyznacz prawdopodobieństwo, że losowo wybrany pracownik średniego szczebla zarabia powyżej 11000 zł.\n",
    "\n",
    "3. Stwierdzono, że iloraz inteligencji IQ ma rozkład normalny o wartości oczekiwanej 100 i odchyleniu standardowym 15. Oblicz prawdopodobieństwo, że iloraz inteligencji losowo wybranej osoby jest nie większy niż 90.\n",
    "\n",
    "4. Zgodnie z planem, czas lotu z Warszawy do Lizbony na rozkład normalny o wartości oczekiwanej 4h i 20 minut i odchyleniem standardowym 10 min. Jakie jest prawdopodobieństwo, że pokonanie samolotem tej trasy zajmie dłużej niż 4h?\n",
    "\n",
    "5. Waga pewnej grupy osób opisana jest rozkładem normalnym o wartości średniej 75 kg i odchyleniu standardowym 5 kg. Jakie jest prawdopodobieństwo, że losowo wybrana osoba waży mniej niż 72 kg?\n"
   ]
  },
  {
   "cell_type": "code",
   "execution_count": null,
   "metadata": {
    "id": "LMoxINm2zLKq"
   },
   "outputs": [],
   "source": []
  },
  {
   "cell_type": "code",
   "execution_count": null,
   "metadata": {
    "id": "XP-cKb3CzLKq"
   },
   "outputs": [],
   "source": []
  },
  {
   "cell_type": "code",
   "execution_count": null,
   "metadata": {
    "id": "Sor86qjTzLKq"
   },
   "outputs": [],
   "source": []
  },
  {
   "cell_type": "code",
   "execution_count": null,
   "metadata": {
    "id": "x6mosdM5zLKq"
   },
   "outputs": [],
   "source": []
  },
  {
   "cell_type": "markdown",
   "metadata": {
    "id": "S646qjZdzLKq"
   },
   "source": [
    "## Kwantyle"
   ]
  },
  {
   "cell_type": "markdown",
   "metadata": {
    "id": "e2XbH1UlzLKr"
   },
   "source": [
    "Dla każdej dystrybuanty $F$, określa się **kwantyl** rzędu $p$, gdzie $0< p <1$, jako:\n",
    "$$\n",
    "q_p = \\min\\{x: F(x)\\geq p\\}.\n",
    "$$\n",
    "\n",
    "Jeżeli dystrybuanta jest funkcją odwracalną, kwantyl możemy przedstawić jako:\n",
    "$$\n",
    "    q_p = F^{-1}(p).\n",
    "$$\n",
    "\n",
    "Wtedy kwantyl ma prostą interpretację w języku zmiennych losowych:\n",
    "$$\n",
    "P(X \\leq q_p) = p \\qquad \\text{oraz} \\qquad P(X > q_p) = 1-P(X\\leq q_p) = 1-p.\n",
    "$$"
   ]
  },
  {
   "cell_type": "code",
   "execution_count": null,
   "metadata": {
    "id": "Fzi7iaew1EQm"
   },
   "outputs": [],
   "source": [
    "# Percent point function (inverse of cdf — percentiles)\n",
    "ppf(q, loc=0, scale=1)"
   ]
  },
  {
   "cell_type": "code",
   "execution_count": null,
   "metadata": {
    "id": "Or_sFw8T0uTe"
   },
   "outputs": [],
   "source": [
    "fig, ax = plt.subplots(1, 2, figsize=(20, 10))\n",
    "\n",
    "x0 = 0.0\n",
    "a, b = -5, 5\n",
    "x_value = np.linspace(a, b, 100)\n",
    "\n",
    "x = np.linspace(a, x0)\n",
    "y = norm01.pdf(x)\n",
    "\n",
    "ax[0].plot(x_value, norm01.pdf(x_value))\n",
    "ax[0].fill_between(x, y, alpha=0.2)\n",
    "ax[0].text(x0-1.3, 0.1, p, size=30)\n",
    "ax[0].set_xlabel('x')\n",
    "ax[0].set_ylabel('PDF(x)')\n",
    "\n",
    "ax[1].plot(x_value, norm01.cdf(x_value))\n",
    "plt.vlines(x0, 0, norm01.cdf(x0), linestyles='--')\n",
    "plt.hlines(p, a, x0, linestyles='--')\n",
    "ax[1].set_yticks([0, 0.2, 0.4, 0.5, 0.6, 0.8, 1])\n",
    "ax[1].set_xlabel('x')\n",
    "ax[1].set_ylabel('CDF(x)')\n",
    "plt.show()"
   ]
  },
  {
   "cell_type": "code",
   "execution_count": null,
   "metadata": {
    "id": "LgNKWvGs0nY2"
   },
   "outputs": [],
   "source": [
    "fig, ax = plt.subplots(1, 2, figsize=(20, 10))\n",
    "\n",
    "x0 = 0.0\n",
    "a, b = -5, 5\n",
    "x_value = np.linspace(a, b, 100)\n",
    "\n",
    "x = np.linspace(a, q)\n",
    "y = norm01.pdf(x)\n",
    "\n",
    "ax[0].plot(x_value, norm01.pdf(x_value))\n",
    "ax[0].fill_between(x, y, alpha=0.2)\n",
    "ax[0].text(x0-1, 0.1, p, size=30)\n",
    "ax[0].set_xticks([-4, -2, 0, q, 2, 4])\n",
    "ax[0].set_xlabel('x')\n",
    "ax[0].set_ylabel('PDF(x)')\n",
    "\n",
    "ax[1].plot(x_value, norm01.cdf(x_value))\n",
    "plt.vlines(q, 0, p, linestyles='--')\n",
    "plt.hlines(p, a, q, linestyles='--')\n",
    "ax[1].set_xticks([-4, -2, 0, q, 2, 4])\n",
    "ax[1].set_xlabel('x')\n",
    "ax[1].set_ylabel('CDF(x)')\n",
    "plt.show()"
   ]
  },
  {
   "cell_type": "code",
   "execution_count": null,
   "metadata": {
    "id": "JE7NUUZ20RvZ"
   },
   "outputs": [],
   "source": [
    "p = 0.25\n",
    "q = norm01.ppf(p)\n",
    "print(q)\n",
    "\n",
    "fig, ax = plt.subplots(1, 2, figsize=(20, 10))\n",
    "\n",
    "x0 = 0.0\n",
    "a, b = -5, 5\n",
    "x_value = np.linspace(a, b, 100)\n",
    "\n",
    "x = np.linspace(a, q)\n",
    "y = norm01.pdf(x)\n",
    "\n",
    "ax[0].plot(x_value, norm01.pdf(x_value))\n",
    "ax[0].fill_between(x, y, alpha=0.2)\n",
    "ax[0].text(x0-2, 0.1, p, size=30)\n",
    "ax[0].set_xticks([-4, -2, q, 0, 2, 4])\n",
    "ax[0].set_xlabel('x')\n",
    "ax[0].set_ylabel('PDF(x)')\n",
    "\n",
    "ax[1].plot(x_value, norm01.cdf(x_value))\n",
    "plt.vlines(q, 0, p, linestyles='--')\n",
    "plt.hlines(p, a, q, linestyles='--')\n",
    "ax[1].set_xticks([-4, -2, q, 0, 2, 4])\n",
    "ax[1].set_yticks([0, .2, p, .4, .6, .8, 1])\n",
    "ax[1].set_xlabel('x')\n",
    "ax[1].set_ylabel('CDF(x)')\n",
    "plt.show()"
   ]
  },
  {
   "cell_type": "markdown",
   "metadata": {
    "id": "HGFCsTmLzLKt"
   },
   "source": [
    "## Reguła 3-sigm"
   ]
  },
  {
   "cell_type": "code",
   "execution_count": null,
   "metadata": {
    "id": "0qHN-yrf0G8d"
   },
   "outputs": [],
   "source": [
    "fig, ax = plt.subplots(1, 3, figsize=(20, 10))\n",
    "\n",
    "mu, sigma = 2, 1\n",
    "norm = stats.norm(loc=mu, scale=sigma)\n",
    "a, b = mu - 5, mu + 5\n",
    "x_value = np.linspace(a, b, 100)\n",
    "\n",
    "for i in np.arange(3):\n",
    "    x = np.linspace(mu - (i + 1) * sigma, mu + (i + 1) * sigma)\n",
    "    y = norm.pdf(x)\n",
    "\n",
    "    ax[i].plot(x_value, norm.pdf(x_value))\n",
    "    ax[i].fill_between(x, y, alpha=0.2)\n",
    "    ax[i].text(mu-0.5, 0.1, '??', size=30)\n",
    "    ax[i].set_xlabel('x')\n",
    "    ax[i].set_ylabel('PDF(x)')\n",
    "    ax[i].set_title('Reguła {}-sigmy'.format(i+1))\n",
    "\n",
    "plt.show()"
   ]
  },
  {
   "cell_type": "markdown",
   "metadata": {
    "id": "oC_AfbFnzLKt"
   },
   "source": [
    "### Zadanie\n",
    "Oblicz następujące prawdopodobieństwa\n",
    "\n",
    "$P(X\\in[\\mu-\\sigma, \\mu+\\sigma])$\n",
    "\n",
    "$P(X\\in[\\mu-2\\sigma, \\mu+2\\sigma])$\n",
    "\n",
    "$P(X\\in[\\mu-3\\sigma, \\mu+3\\sigma])$\n",
    "\n",
    "dla następujących rozkładów normalnych\n",
    "\n",
    "a) $\\mathcal{N}(0, 1)$,\n",
    "\n",
    "b) $\\mathcal{N}(-2, 2)$,\n",
    "\n",
    "c) $\\mathcal{N}(4, 0.5)$.\n",
    "\n",
    "**Wskazówka**: W przypadku ciągłym prawdziwy jest wzór:\n",
    "$$P(X\\in[a, b]) = F(b)-F(a).$$"
   ]
  },
  {
   "cell_type": "code",
   "execution_count": null,
   "metadata": {
    "id": "3q3foonZzLKt"
   },
   "outputs": [],
   "source": []
  },
  {
   "cell_type": "code",
   "execution_count": null,
   "metadata": {
    "id": "GzO7CEutzLKu"
   },
   "outputs": [],
   "source": []
  },
  {
   "cell_type": "code",
   "execution_count": null,
   "metadata": {
    "id": "gMNO4nXbzLKu"
   },
   "outputs": [],
   "source": []
  },
  {
   "cell_type": "code",
   "execution_count": null,
   "metadata": {
    "id": "MwU0_K3hzLKu"
   },
   "outputs": [],
   "source": []
  }
 ],
 "metadata": {
  "colab": {
   "provenance": []
  },
  "hide_input": false,
  "kernelspec": {
   "display_name": "Python 3 (ipykernel)",
   "language": "python",
   "name": "python3"
  },
  "language_info": {
   "codemirror_mode": {
    "name": "ipython",
    "version": 3
   },
   "file_extension": ".py",
   "mimetype": "text/x-python",
   "name": "python",
   "nbconvert_exporter": "python",
   "pygments_lexer": "ipython3",
   "version": "3.10.6"
  },
  "toc": {
   "base_numbering": 1,
   "nav_menu": {},
   "number_sections": true,
   "sideBar": true,
   "skip_h1_title": true,
   "title_cell": "Table of Contents",
   "title_sidebar": "Contents",
   "toc_cell": false,
   "toc_position": {},
   "toc_section_display": true,
   "toc_window_display": false
  },
  "varInspector": {
   "cols": {
    "lenName": 16,
    "lenType": 16,
    "lenVar": 40
   },
   "kernels_config": {
    "python": {
     "delete_cmd_postfix": "",
     "delete_cmd_prefix": "del ",
     "library": "var_list.py",
     "varRefreshCmd": "print(var_dic_list())"
    },
    "r": {
     "delete_cmd_postfix": ") ",
     "delete_cmd_prefix": "rm(",
     "library": "var_list.r",
     "varRefreshCmd": "cat(var_dic_list()) "
    }
   },
   "types_to_exclude": [
    "module",
    "function",
    "builtin_function_or_method",
    "instance",
    "_Feature"
   ],
   "window_display": false
  }
 },
 "nbformat": 4,
 "nbformat_minor": 1
}
