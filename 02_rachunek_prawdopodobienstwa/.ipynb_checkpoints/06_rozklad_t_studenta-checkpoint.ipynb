{
 "cells": [
  {
   "cell_type": "markdown",
   "metadata": {
    "id": "DUZEXF5bi-vM"
   },
   "source": [
    "# **Rozkład $t$-Studenta** - $t(n)$\n",
    "Zmienna losowa $X$ ma rozkład  $t$-Studenta o $n\\in\\mathbb{N_+}$ stopniach swobody, jeżeli jej gęstość $f$ jest postaci\n",
    "$$\n",
    "    f(x)=\\frac{\\Gamma(\\frac{n+1}{2})}{\\sqrt{n\\pi}\\Gamma(\\frac{n}{2})}\\Big(1+\\frac{x^2}{n}\\Big)^{-\\frac{n+1}{2}} \\quad \\text{dla} \\quad x\\in\\mathbb{R}.\n",
    "$$\n",
    "\n",
    "Wartość oczekiwana i wariancja, dla $n>2$, dane są wzorami\n",
    "$$\n",
    "    \\mathbb{E}X = 0, \\quad \\text{Var}(X) = \\frac{n}{n-2}.\n",
    "$$"
   ]
  },
  {
   "cell_type": "markdown",
   "metadata": {
    "id": "RaDQf4sZi-vP"
   },
   "source": [
    "https://docs.scipy.org/doc/scipy/reference/generated/scipy.stats.t.html#scipy.stats.t"
   ]
  },
  {
   "cell_type": "code",
   "execution_count": null,
   "metadata": {
    "id": "J7AJXcRbi-vP"
   },
   "outputs": [],
   "source": [
    "import numpy as np\n",
    "import matplotlib.pyplot as plt\n",
    "\n",
    "from scipy import stats"
   ]
  },
  {
   "cell_type": "markdown",
   "metadata": {
    "id": "DlSGqStIi-vR"
   },
   "source": [
    "### Zadanie\n",
    "1. Zdefiniuj zmienną losową dla rozkładu $t$-Studenta.\n",
    "2. Narysuj gęstość.\n",
    "3. Narysuj dystrybuantę.\n",
    "4. Wyznacz podstawowe charakterystyki rozkładu: średnia, wariancja, odchylenie standardowe.\n",
    "5. Wylosuj $n$ obserwacji z zdefiniowanego rozkładu.\n",
    "6. Narysujmy histogram dla wylosowanej powyżej próbki."
   ]
  },
  {
   "cell_type": "code",
   "execution_count": null,
   "metadata": {
    "id": "HcbLm-G2i-vR"
   },
   "outputs": [],
   "source": []
  },
  {
   "cell_type": "code",
   "execution_count": null,
   "metadata": {
    "id": "jsKnvOeqi-vS"
   },
   "outputs": [],
   "source": []
  },
  {
   "cell_type": "code",
   "execution_count": null,
   "metadata": {
    "id": "DTn25Tvsi-vS"
   },
   "outputs": [],
   "source": []
  },
  {
   "cell_type": "code",
   "execution_count": null,
   "metadata": {
    "id": "1rjuAaEHi-vS"
   },
   "outputs": [],
   "source": []
  },
  {
   "cell_type": "markdown",
   "metadata": {
    "id": "WCpRMjhGi-vT"
   },
   "source": [
    "### Zadanie\n",
    "1. Narysuj na jednym wykresie gęstości dla rozkładu t-Studenta dla stopni swobody z zakresu od 1 do 20.\n",
    "2. Dorysuj wykres gęstości rozkładu normalnego standardowego\n",
    "3. Wyciągnij wnioski"
   ]
  },
  {
   "cell_type": "code",
   "execution_count": null,
   "metadata": {
    "id": "9je_b2QBi-vU"
   },
   "outputs": [],
   "source": []
  },
  {
   "cell_type": "code",
   "execution_count": null,
   "metadata": {
    "id": "8k1SypN7i-vU"
   },
   "outputs": [],
   "source": []
  },
  {
   "cell_type": "code",
   "execution_count": null,
   "metadata": {
    "id": "KbiXSjR8i-vU"
   },
   "outputs": [],
   "source": []
  },
  {
   "cell_type": "markdown",
   "metadata": {
    "id": "XwR9N9-gi-vV"
   },
   "source": [
    "### Zadanie - do domu\n",
    "Sprawdzić empirycznie następujące własności:\n",
    "1. Jeśli $X_1, \\ldots, X_n$ będzie próbą z rozkładu normalnego $\\mathcal{N}(\\mu,\\sigma)$ to zmienna $Y=\\frac{\\overline{X}-\\mu}{S}\\sqrt{n}$ pochodzi z rozkładu $t$-Studenta z $n-1$ stopniami swobody.\n",
    "\n",
    "**Wskazkówka**: $S^2=\\frac{1}{n-1}\\sum_{i=1}^n(X_i-\\overline{X})^2$."
   ]
  },
  {
   "cell_type": "code",
   "execution_count": null,
   "metadata": {
    "id": "UemLc3TKi-vV"
   },
   "outputs": [],
   "source": []
  },
  {
   "cell_type": "code",
   "execution_count": null,
   "metadata": {
    "id": "QpGuZhYJi-vV"
   },
   "outputs": [],
   "source": []
  },
  {
   "cell_type": "code",
   "execution_count": null,
   "metadata": {
    "id": "lnkftLzOi-vW"
   },
   "outputs": [],
   "source": []
  },
  {
   "cell_type": "code",
   "execution_count": null,
   "metadata": {
    "id": "IiVddU2Ri-vW"
   },
   "outputs": [],
   "source": []
  },
  {
   "cell_type": "code",
   "execution_count": null,
   "metadata": {
    "id": "E_kamBPMi-vW"
   },
   "outputs": [],
   "source": []
  },
  {
   "cell_type": "code",
   "execution_count": null,
   "metadata": {
    "id": "mKsTOAAsi-vW"
   },
   "outputs": [],
   "source": []
  }
 ],
 "metadata": {
  "colab": {
   "provenance": []
  },
  "hide_input": false,
  "kernelspec": {
   "display_name": "Python 3 (ipykernel)",
   "language": "python",
   "name": "python3"
  },
  "language_info": {
   "codemirror_mode": {
    "name": "ipython",
    "version": 3
   },
   "file_extension": ".py",
   "mimetype": "text/x-python",
   "name": "python",
   "nbconvert_exporter": "python",
   "pygments_lexer": "ipython3",
   "version": "3.10.6"
  },
  "toc": {
   "base_numbering": 1,
   "nav_menu": {},
   "number_sections": true,
   "sideBar": true,
   "skip_h1_title": true,
   "title_cell": "Table of Contents",
   "title_sidebar": "Contents",
   "toc_cell": false,
   "toc_position": {},
   "toc_section_display": true,
   "toc_window_display": false
  },
  "varInspector": {
   "cols": {
    "lenName": 16,
    "lenType": 16,
    "lenVar": 40
   },
   "kernels_config": {
    "python": {
     "delete_cmd_postfix": "",
     "delete_cmd_prefix": "del ",
     "library": "var_list.py",
     "varRefreshCmd": "print(var_dic_list())"
    },
    "r": {
     "delete_cmd_postfix": ") ",
     "delete_cmd_prefix": "rm(",
     "library": "var_list.r",
     "varRefreshCmd": "cat(var_dic_list()) "
    }
   },
   "types_to_exclude": [
    "module",
    "function",
    "builtin_function_or_method",
    "instance",
    "_Feature"
   ],
   "window_display": false
  }
 },
 "nbformat": 4,
 "nbformat_minor": 1
}
